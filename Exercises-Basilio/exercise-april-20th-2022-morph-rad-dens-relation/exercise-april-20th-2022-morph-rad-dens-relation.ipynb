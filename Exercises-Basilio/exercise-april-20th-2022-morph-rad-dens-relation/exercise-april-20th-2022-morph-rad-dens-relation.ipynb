{
 "cells": [
  {
   "cell_type": "markdown",
   "id": "58be7e8e",
   "metadata": {},
   "source": [
    "# Exercise April, 20th 2022 - Determining the Morphology-Radial Distance relation and Morphology-Density relation"
   ]
  },
  {
   "cell_type": "markdown",
   "id": "567f5db2",
   "metadata": {},
   "source": [
    "Student: Luigi Lucas de Carvalho Silva <br> \n",
    "UFRGS Card: 338979 <br>\n",
    "Email: luigi.lcsilva@gmail.com"
   ]
  },
  {
   "cell_type": "markdown",
   "id": "24b77789",
   "metadata": {},
   "source": [
    "First of all, let us import some useful packages."
   ]
  },
  {
   "cell_type": "code",
   "execution_count": 1,
   "id": "e70f498d",
   "metadata": {},
   "outputs": [],
   "source": [
    "import numpy as np\n",
    "import math\n",
    "import matplotlib.ticker\n",
    "import matplotlib.pyplot as plt\n",
    "%matplotlib inline\n",
    "import pandas as pd\n",
    "import os\n",
    "import glob\n",
    "import scipy.constants\n",
    "\n",
    "#Pandas was giving some annoying warnings, of type \"SettingWithCopyWarning\", which didn't influence the results. \n",
    "#The line below causes these warnings to be omitted.\n",
    "#pd.options.mode.chained_assignment = None  #default='warn'"
   ]
  },
  {
   "cell_type": "markdown",
   "id": "84b72faf",
   "metadata": {},
   "source": [
    "Let us also define some useful constants."
   ]
  },
  {
   "cell_type": "code",
   "execution_count": 2,
   "id": "0bb1125e",
   "metadata": {},
   "outputs": [],
   "source": [
    "### Defining the Hubble constant and the deceleration parameter standard values.\n",
    "H_0_LCDM = 73   #km_s_mpc\n",
    "q_0_LCDM = -0.6 \n",
    "\n",
    "### Defining the light velocity.\n",
    "c_m_s = scipy.constants.c\n",
    "c_km_s = c_m_s/1000"
   ]
  },
  {
   "cell_type": "markdown",
   "id": "41798eb6",
   "metadata": {},
   "source": [
    "## PART 1 - Steps 1 to 8"
   ]
  },
  {
   "cell_type": "markdown",
   "id": "36373ba9",
   "metadata": {},
   "source": [
    "### Step 1 - Reading the file"
   ]
  },
  {
   "cell_type": "markdown",
   "id": "1dad0d34",
   "metadata": {},
   "source": [
    "First of all, let us read the file containing the Coma Cluster sample using pandas. Source: https://articles.adsabs.harvard.edu/pdf/1995ApJS...97...77D."
   ]
  },
  {
   "cell_type": "code",
   "execution_count": 3,
   "id": "87236b82",
   "metadata": {},
   "outputs": [],
   "source": [
    "### We can use pd.read_fwf to \"Read a table of fixed-width formatted lines into DataFrame\".\n",
    "### Values will come as strings! Be careful!\n",
    "df = pd.read_fwf('CatalogComaCluster.txt', colspecs='infer', skiprows=2, header=None)\n",
    "\n",
    "### Defining the columns names.\n",
    "df.columns = ['RAJ2000_h', 'RAJ2000_m', 'RAJ2000_s', 'DEJ2000_d', 'DEJ2000_m', 'DEJ2000_s', 'Num', 'CGCG',\n",
    "              'NGC_IC', 'UGC', 'cz(km/s)', 'RA1950_h', 'RA1950_m', 'RA1950_s', 'DE1950_d', 'DE1950_m',\n",
    "              'DE1950_s', 'B25.5(mag)', 'SB25.5(mag)', 'r_{e25.5}(arcsec)', 'Type', 'RAicrs_h', 'RAicrs_m',\n",
    "              'RAicrs_s', 'DEicrs_d', 'DEicrs_m', 'RAicrs_s']\n",
    "\n",
    "### Dropping the first row (this is used only to give the correct format) and reseting the index.\n",
    "df = df.drop(0, axis=0)\n",
    "df = df.reset_index(drop=True)"
   ]
  },
  {
   "cell_type": "code",
   "execution_count": 4,
   "id": "176cb673",
   "metadata": {},
   "outputs": [
    {
     "name": "stdout",
     "output_type": "stream",
     "text": [
      "  RAJ2000_h RAJ2000_m RAJ2000_s DEJ2000_d DEJ2000_m DEJ2000_s Num     CGCG  \\\n",
      "0        12        38   13.3486       +28        56    11.962   1  Z159037   \n",
      "1        12        38   45.6863       +31        52    49.062   2      NaN   \n",
      "2        12        38   48.0730       +32        05    30.292   3      NaN   \n",
      "3        12        38   48.7993       +31        59    04.900   4      NaN   \n",
      "4        12        39   00.5379       +28        18    53.017   5      NaN   \n",
      "\n",
      "  NGC_IC    UGC  ... B25.5(mag) SB25.5(mag) r_{e25.5}(arcsec) Type RAicrs_h  \\\n",
      "0  N4585    NaN  ...      14.70       22.88               9.7    L       12   \n",
      "1    NaN    NaN  ...      15.86       23.42               6.8    L       12   \n",
      "2    NaN  U7812  ...      14.20       22.70              11.1    L       12   \n",
      "3    NaN    NaN  ...      14.45       23.29               8.9    E       12   \n",
      "4    NaN    NaN  ...      15.83       23.39               4.6    E       12   \n",
      "\n",
      "  RAicrs_m RAicrs_s DEicrs_d DEicrs_m RAicrs_s  \n",
      "0       38    13.35      +28       56     12.0  \n",
      "1       38    45.69      +31       52     49.1  \n",
      "2       38    48.07      +32       05     30.3  \n",
      "3       38    48.80      +31       59     04.9  \n",
      "4       39    00.54      +28       18     53.0  \n",
      "\n",
      "[5 rows x 27 columns]\n"
     ]
    }
   ],
   "source": [
    "print(df.head())"
   ]
  },
  {
   "cell_type": "markdown",
   "id": "6cf90d6c",
   "metadata": {},
   "source": [
    "### Step 2 - Keeping only galaxies with measured redshifts"
   ]
  },
  {
   "cell_type": "markdown",
   "id": "bb0cdd82",
   "metadata": {},
   "source": [
    "Next, I will keep in the dataframe only galaxies with measured redshifts."
   ]
  },
  {
   "cell_type": "code",
   "execution_count": 5,
   "id": "c4acc018",
   "metadata": {},
   "outputs": [],
   "source": [
    "### Dropping rows for which cz is \"NaN\".\n",
    "df = df[df['cz(km/s)'].notna()]\n",
    "\n",
    "### Reseting the index.\n",
    "df = df.reset_index(drop=True)"
   ]
  },
  {
   "cell_type": "code",
   "execution_count": 6,
   "id": "1a08e028",
   "metadata": {},
   "outputs": [
    {
     "name": "stdout",
     "output_type": "stream",
     "text": [
      "0    7019\n",
      "1    8041\n",
      "2    6536\n",
      "3    6574\n",
      "4    7321\n",
      "Name: cz(km/s), dtype: object\n"
     ]
    }
   ],
   "source": [
    "print(df['cz(km/s)'].head())"
   ]
  },
  {
   "cell_type": "markdown",
   "id": "d1df1125",
   "metadata": {},
   "source": [
    "### Step 3 - Making a histogram with the distribution of galaxies as a function of radial velocity (km/s) and cutting the sample by selecting only galaxies within a range of radial velocities so as to minimize the contamination of the sample by galaxies which are not cluster members"
   ]
  },
  {
   "cell_type": "markdown",
   "id": "475201a4",
   "metadata": {},
   "source": [
    "First of all, let us make the histogram with the distribution of galaxies as a function of radial velocity (km/s)."
   ]
  },
  {
   "cell_type": "code",
   "execution_count": 7,
   "id": "4f6297fd",
   "metadata": {},
   "outputs": [
    {
     "data": {
      "image/png": "[encoded data removed]",
      "text/plain": [
       "<Figure size 432x288 with 1 Axes>"
      ]
     },
     "metadata": {
      "needs_background": "light"
     },
     "output_type": "display_data"
    }
   ],
   "source": [
    "### First of all, it is necessary to turn the cz values into float numbers.\n",
    "df['cz(km/s)'] = df['cz(km/s)'].astype(float)\n",
    "x_nocut = df['cz(km/s)']\n",
    "\n",
    "### Then, the histogram is made.\n",
    "fig,ax = plt.subplots()\n",
    "ax.hist(x_nocut, bins=40)\n",
    "ax.set_xlabel(\"Radial velocity (km/s)\")\n",
    "ax.set_ylabel(\"Frequency\")\n",
    "ax.set_title(\"Histogram of galaxies distribution\")\n",
    "\n",
    "plt.show()"
   ]
  },
  {
   "cell_type": "markdown",
   "id": "955b9f8b",
   "metadata": {},
   "source": [
    "Now, for the Coma Cluster, we have a redshift of $z_{coma} = 0.023156$, and the J2000 RA and DEC coordinates are $RA = 12h59m48.7s$ and $DEC = +27d58m50s$ (http://ned.ipac.caltech.edu/cgi-bin/nph-objsearch?objname=Abell+1656&extend=no)."
   ]
  },
  {
   "cell_type": "markdown",
   "id": "5a487a06",
   "metadata": {},
   "source": [
    "We also have a velocity dispersion of $\\sigma_r \\approx 977 \\frac{km}{s}$ (https://web.njit.edu/~gary/321/Lecture22.html)."
   ]
  },
  {
   "cell_type": "markdown",
   "id": "2cebfc57",
   "metadata": {},
   "source": [
    "So, based on the above, let us define some variables for the Coma Cluster."
   ]
  },
  {
   "cell_type": "code",
   "execution_count": 8,
   "id": "68b28ada",
   "metadata": {},
   "outputs": [],
   "source": [
    "### Coma Redshift\n",
    "z_coma = 0.023156\n",
    "\n",
    "### Coma Velocity\n",
    "v_r_coma = z_coma*c_km_s #km/s\n",
    "\n",
    "### Coma Velocity Dispersion\n",
    "sigma_r_coma = 977 #km/s\n",
    "\n",
    "### Coma RAJ2000 in Radians\n",
    "coma_ra_h = 12\n",
    "coma_ra_m = 59\n",
    "coma_ra_s = 48.7\n",
    "\n",
    "coma_ra_rad = ((coma_ra_h + coma_ra_m/60 + coma_ra_s/3600)*15)*np.pi/180\n",
    "\n",
    "### Coma DEJ2000 in Radians\n",
    "coma_de_d = 27\n",
    "coma_de_m = 58\n",
    "coma_de_s = 50\n",
    "\n",
    "coma_de_rad = (coma_de_d + coma_de_m/60 + coma_de_s/3600)*np.pi/180"
   ]
  },
  {
   "cell_type": "markdown",
   "id": "be08aab9",
   "metadata": {},
   "source": [
    "Now, let us cut the sample by selecting only galaxies within a range of radial velocities so as to minimize the contamination of the sample by galaxies which are not cluster members."
   ]
  },
  {
   "cell_type": "code",
   "execution_count": 9,
   "id": "e09cc0f7",
   "metadata": {},
   "outputs": [
    {
     "name": "stdout",
     "output_type": "stream",
     "text": [
      "Percentage of data kept after cutting: 0.8250825082508251\n"
     ]
    }
   ],
   "source": [
    "### Cut values for the sample.\n",
    "n_sigma = 2  #Multiple of sigma_r_coma that we want to include around v_r_coma.\n",
    "vel_min = v_r_coma - n_sigma*sigma_r_coma\n",
    "vel_max = v_r_coma + n_sigma*sigma_r_coma\n",
    "\n",
    "### Selecting the data according to the cut_value.\n",
    "df = df[(df['cz(km/s)']>=vel_min) & (df['cz(km/s)']<=vel_max)]\n",
    "x_cut = df['cz(km/s)']\n",
    "\n",
    "### Showing the percentage of data kept after cutting.\n",
    "print(\"Percentage of data kept after cutting: \"+ str(len(x_cut)/len(x_nocut)))"
   ]
  },
  {
   "cell_type": "markdown",
   "id": "42d8aa2a",
   "metadata": {},
   "source": [
    "Now, let us make the new histogram."
   ]
  },
  {
   "cell_type": "code",
   "execution_count": 10,
   "id": "0a1d37bc",
   "metadata": {},
   "outputs": [
    {
     "data": {
      "image/png": "[encoded data removed]",
      "text/plain": [
       "<Figure size 432x288 with 1 Axes>"
      ]
     },
     "metadata": {
      "needs_background": "light"
     },
     "output_type": "display_data"
    }
   ],
   "source": [
    "### Making the histogram.\n",
    "fig,ax = plt.subplots()\n",
    "ax.hist(x_cut, bins=30)\n",
    "ax.set_xlabel(\"Radial velocity (km/s)\")\n",
    "ax.set_ylabel(\"Frequency\")\n",
    "ax.set_title(\"Histogram after the cut. Sigmas included around v_r_coma: %.f.\" %n_sigma)\n",
    "\n",
    "plt.show()"
   ]
  },
  {
   "cell_type": "markdown",
   "id": "aadcd51c",
   "metadata": {},
   "source": [
    "### Step 4 - Plotting the on-sky distribution of galaxies (i.e., in RA, DEC) from the previous item, using different symbols for galaxies classified in the file as early-type (E) and late-type (L)"
   ]
  },
  {
   "cell_type": "markdown",
   "id": "93be9200",
   "metadata": {},
   "source": [
    "First of all, let us convert the RAJ2000 from (h:m:s) to radians."
   ]
  },
  {
   "cell_type": "code",
   "execution_count": 11,
   "id": "4d2705ff",
   "metadata": {},
   "outputs": [
    {
     "name": "stdout",
     "output_type": "stream",
     "text": [
      "0    3.312341\n",
      "1    3.312656\n",
      "2    3.313011\n",
      "3    3.313072\n",
      "4    3.313113\n",
      "Name: RAJ2000_rad, dtype: float64\n"
     ]
    }
   ],
   "source": [
    "### Turning things into float numbers.\n",
    "df['RAJ2000_h'] = df['RAJ2000_h'].astype(float)\n",
    "df['RAJ2000_m'] = df['RAJ2000_m'].astype(float)\n",
    "df['RAJ2000_s'] = df['RAJ2000_s'].astype(float)\n",
    "\n",
    "### Converting to radians.\n",
    "df['RAJ2000_rad'] = ((df['RAJ2000_h'] + df['RAJ2000_m']/60 + df['RAJ2000_s']/3600)*15)*np.pi/180\n",
    "\n",
    "print(df['RAJ2000_rad'].head())"
   ]
  },
  {
   "cell_type": "markdown",
   "id": "e8cdd3fc",
   "metadata": {},
   "source": [
    "Now, let us convert the DEJ2000 from (d:m:s) to radians."
   ]
  },
  {
   "cell_type": "code",
   "execution_count": 12,
   "id": "2463645c",
   "metadata": {},
   "outputs": [
    {
     "name": "stdout",
     "output_type": "stream",
     "text": [
      "0    0.530695\n",
      "1    0.484211\n",
      "2    0.465618\n",
      "3    0.487096\n",
      "4    0.504470\n",
      "Name: DEJ2000_rad, dtype: float64\n"
     ]
    }
   ],
   "source": [
    "### Turning things into float numbers.\n",
    "df['DEJ2000_d'] = df['DEJ2000_d'].astype(float)\n",
    "df['DEJ2000_m'] = df['DEJ2000_m'].astype(float)\n",
    "df['DEJ2000_s'] = df['DEJ2000_s'].astype(float)\n",
    "\n",
    "### Converting to radians.\n",
    "df['DEJ2000_rad'] = (df['DEJ2000_d'] + df['DEJ2000_m']/60 + df['DEJ2000_s']/3600)*np.pi/180\n",
    "\n",
    "print(df['DEJ2000_rad'].head())"
   ]
  },
  {
   "cell_type": "markdown",
   "id": "82c4ff43",
   "metadata": {},
   "source": [
    "Now, let us separate galaxies of early-type and late-type."
   ]
  },
  {
   "cell_type": "code",
   "execution_count": 13,
   "id": "96395d66",
   "metadata": {},
   "outputs": [],
   "source": [
    "late_type_RA = df[df['Type'] == 'L']['RAJ2000_rad']\n",
    "late_type_DEC = df[df['Type'] == 'L']['DEJ2000_rad']\n",
    "\n",
    "early_type_RA = df[df['Type'] == 'E']['RAJ2000_rad']\n",
    "early_type_DEC = df[df['Type'] == 'E']['DEJ2000_rad']"
   ]
  },
  {
   "cell_type": "markdown",
   "id": "cb175744",
   "metadata": {},
   "source": [
    "Now, let us make the plot."
   ]
  },
  {
   "cell_type": "code",
   "execution_count": 14,
   "id": "86a529a6",
   "metadata": {},
   "outputs": [
    {
     "data": {
      "image/png": "[encoded data removed]",
      "text/plain": [
       "<Figure size 504x504 with 1 Axes>"
      ]
     },
     "metadata": {
      "needs_background": "light"
     },
     "output_type": "display_data"
    }
   ],
   "source": [
    "### Making a graph of the on-sky distribution of galaxies.\n",
    "figure, axis = plt.subplots(figsize=(7,7))\n",
    "\n",
    "axis.scatter(late_type_RA, late_type_DEC, label='Late Type')\n",
    "axis.scatter(early_type_RA, early_type_DEC, label='Early Type', facecolors='none', edgecolors='r')\n",
    "\n",
    "###### AXIS DEF ######\n",
    "### Showing a legend.\n",
    "axis.legend()\n",
    "\n",
    "### Setting the axis labels.\n",
    "axis.set_xlabel(\"RA (rad)\")\n",
    "axis.set_ylabel(\"DEC (rad)\")\n",
    "\n",
    "### Setting the title.\n",
    "axis.set_title(\"On-sky distribution of galaxies\")\n",
    "\n",
    "### Setting axis limits.\n",
    "axis.set_xlim(left=3.3, right=3.5)\n",
    "axis.set_ylim(bottom=0.4, top=0.6)\n",
    "\n",
    "\n",
    "plt.show()"
   ]
  },
  {
   "cell_type": "markdown",
   "id": "a464f4ec",
   "metadata": {},
   "source": [
    "### Step 5 - Computing the angular distance of each galaxy to the center of the Coma Cluster"
   ]
  },
  {
   "cell_type": "markdown",
   "id": "983edd63",
   "metadata": {},
   "source": [
    "In Step 3, I already showed the RA and DEC coordinates of the center of the Coma Cluster, and I also converted them to radians. So, I will just use them here."
   ]
  },
  {
   "cell_type": "markdown",
   "id": "d66ece78",
   "metadata": {},
   "source": [
    "The angular distance can be computed using the dot product of the unit vectors that point to the sources."
   ]
  },
  {
   "cell_type": "markdown",
   "id": "a063b825",
   "metadata": {},
   "source": [
    "We can write a vector pointing to a certain source as $\\vec{e}_i = cosDEC_i cosRA_i \\vec{e}_x + cosDEC_i sinRA_i \\vec{e}_y + sinDEC_i \\vec{e}_z$."
   ]
  },
  {
   "cell_type": "markdown",
   "id": "8682062c",
   "metadata": {},
   "source": [
    "So, the angular distance between the sources can be written as $\\theta = arcos(\\vec{e}_1 . \\vec{e}_2)$."
   ]
  },
  {
   "cell_type": "markdown",
   "id": "628ad350",
   "metadata": {},
   "source": [
    "Let us define a function to compute the angular distance between two sources."
   ]
  },
  {
   "cell_type": "code",
   "execution_count": 15,
   "id": "7ee8dd11",
   "metadata": {},
   "outputs": [],
   "source": [
    "def ang_dist(ra1, dec1, ra2, dec2):\n",
    "    \"\"\"\n",
    "    Function for computing the angular distance between two sources. \n",
    "    Inputs must be in RADIANS.\n",
    "    Returns the angular distance in RADIANS and in the closed interval [0, pi]. \n",
    "    \"\"\"\n",
    "    ang_dist = np.arccos(np.cos(dec1)*np.cos(dec2)*(np.cos(ra1)*np.cos(ra2) + np.sin(ra1)*np.sin(ra2)) +\n",
    "                         np.sin(dec1)*np.sin(dec2))\n",
    "    return ang_dist"
   ]
  },
  {
   "cell_type": "markdown",
   "id": "9ffbb46f",
   "metadata": {},
   "source": [
    "Now, let us compute the angular distance of each galaxy to the center of the Coma Cluster and save it in the dataframe."
   ]
  },
  {
   "cell_type": "code",
   "execution_count": 16,
   "id": "96e3b447",
   "metadata": {},
   "outputs": [
    {
     "name": "stdout",
     "output_type": "stream",
     "text": [
      "0    0.089412\n",
      "1    0.079593\n",
      "2    0.082739\n",
      "3    0.079068\n",
      "4    0.080286\n",
      "Name: ang_dist_to_center, dtype: float64\n"
     ]
    }
   ],
   "source": [
    "### Galaxies RA and DEC\n",
    "ra1 = df['RAJ2000_rad'] \n",
    "dec1 = df['DEJ2000_rad']\n",
    "\n",
    "### Coma Cluster center RA and DEC.\n",
    "ra2 = coma_ra_rad\n",
    "dec2 = coma_de_rad\n",
    "\n",
    "df['ang_dist_to_center'] = ang_dist(ra1, dec1, ra2, dec2)\n",
    "\n",
    "print(df['ang_dist_to_center'].head())"
   ]
  },
  {
   "cell_type": "markdown",
   "id": "a5c725c0",
   "metadata": {},
   "source": [
    "### Step 6 - Converting the angular distances from the previous item to physical units of projected distance"
   ]
  },
  {
   "cell_type": "markdown",
   "id": "754dffa5",
   "metadata": {},
   "source": [
    "First of all, let us discuss whether it matters if we use the Coma Cluster proper distance, luminosity distance, or angular diameter distance to the Local Group."
   ]
  },
  {
   "cell_type": "markdown",
   "id": "a02aec4a",
   "metadata": {},
   "source": [
    "Proper distance is defined as $d_P(t_0) \\approx \\frac{c}{H_0} z \\left ( 1 - \\frac{1+q_0}{2} z \\right )$, for $z \\ll 1$ (see the Barbara Ryden book, Introduction to Cosmology; in second edition, this is the expression (6.30))."
   ]
  },
  {
   "cell_type": "markdown",
   "id": "58245ac7",
   "metadata": {},
   "source": [
    "Luminosity distance is defined as $d_L \\approx \\frac{c}{H_0} z \\left ( 1 + \\frac{1-q_0}{2} z \\right )$, for nearly flat universe and for $z\\ll1$ (see the Barbara Ryden book, Introduction to Cosmology; in second edition, this is the expression (6.31))."
   ]
  },
  {
   "cell_type": "markdown",
   "id": "c62903ed",
   "metadata": {},
   "source": [
    "Angular-diameter distance is defined as $d_A \\approx \\frac{c}{H_0} z \\left ( 1 - \\frac{3+q_0}{2} z \\right )$, for $z \\ll 1$ (see the Barbara Ryden book, Introduction to Cosmology; in second edition, this is the expression (6.38))."
   ]
  },
  {
   "cell_type": "markdown",
   "id": "6d03981c",
   "metadata": {},
   "source": [
    "So, as we can see, for very small z, as is the case of the Coma Cluster ($z=0.023156$), we expect those expressions to be approximately equal, with only very small divergences. Let us compute those distances for the Coma Cluster."
   ]
  },
  {
   "cell_type": "code",
   "execution_count": 17,
   "id": "93c2ac26",
   "metadata": {},
   "outputs": [],
   "source": [
    "d_P_coma = (c_km_s/H_0_LCDM)*z_coma*(1-(1+q_0_LCDM)*z_coma/2) #Mpc\n",
    "d_L_coma = (c_km_s/H_0_LCDM)*z_coma*(1+(1-q_0_LCDM)*z_coma/2) #Mpc\n",
    "d_A_coma = (c_km_s/H_0_LCDM)*z_coma*(1-(3+q_0_LCDM)*z_coma/2) #Mpc"
   ]
  },
  {
   "cell_type": "markdown",
   "id": "be024e1b",
   "metadata": {},
   "source": [
    "Now, let us inspect the fractional variations between them, that is, $\\frac{d_1}{d_2} - 1$. This gives us the \n",
    "difference between the two distances in terms of a percentage change."
   ]
  },
  {
   "cell_type": "code",
   "execution_count": 18,
   "id": "23402f36",
   "metadata": {},
   "outputs": [
    {
     "name": "stdout",
     "output_type": "stream",
     "text": [
      "Fractional variation - d_P_coma and d_L_coma: -0.022735\n",
      "Fractional variation - d_P_coma and d_A_coma: 0.023818\n",
      "Fractional variation - d_L_coma and d_A_coma: 0.047636\n"
     ]
    }
   ],
   "source": [
    "diff_P_L_coma = d_P_coma/d_L_coma - 1\n",
    "diff_P_A_coma = d_P_coma/d_A_coma - 1\n",
    "diff_L_A_coma = d_L_coma/d_A_coma - 1\n",
    "\n",
    "print('Fractional variation - d_P_coma and d_L_coma: %f' % diff_P_L_coma)\n",
    "print('Fractional variation - d_P_coma and d_A_coma: %f' % diff_P_A_coma)\n",
    "print('Fractional variation - d_L_coma and d_A_coma: %f' % diff_L_A_coma)"
   ]
  },
  {
   "cell_type": "markdown",
   "id": "9379d54c",
   "metadata": {},
   "source": [
    "So, the difference between the distances is about 5%, at most, which is considerably small."
   ]
  },
  {
   "cell_type": "markdown",
   "id": "cb2e9c0a",
   "metadata": {},
   "source": [
    "However, the angular-diameter distance $d_A$ can also be defined in terms of the proper length $l$ of a yardstick (this proper length must be constant, that is, the expansion of the universe must not \n",
    "considerably influence the proper length of the yardstick) and the measured angular distance $\\delta \\theta$. The relation is $d_A \\equiv \\frac{l}{\\delta \\theta}$. With this in mind, if we consider that the distances between galaxies in the Coma Cluster have not changed so much since the light that is reaching us now was emitted, angular-diameter distance $d_A$ may be a better type of distance to be used. "
   ]
  },
  {
   "cell_type": "markdown",
   "id": "9b1fee32",
   "metadata": {},
   "source": [
    "With this consideration (constant proper length), the proper distances between the galaxies and the center would be calculated with $l = d_A\\delta \\theta$. This consideration might not be exactly true, but, anyway, the percentage change between two different types of distances is small, then it will not generate great divergences."
   ]
  },
  {
   "cell_type": "markdown",
   "id": "e8e224b6",
   "metadata": {},
   "source": [
    "Finally, let us convert the angular distances from the previous item to physical units of projected distance and save them in the dataframe."
   ]
  },
  {
   "cell_type": "code",
   "execution_count": 19,
   "id": "1851a0b6",
   "metadata": {},
   "outputs": [
    {
     "name": "stdout",
     "output_type": "stream",
     "text": [
      "Maximum angular distance computed = 5.367228073563763°\n"
     ]
    }
   ],
   "source": [
    "### Showing the maximum value of angular distance to the center, as computed before.\n",
    "print('Maximum angular distance computed = '+str(df['ang_dist_to_center'].max()*180/np.pi)+'°')"
   ]
  },
  {
   "cell_type": "code",
   "execution_count": 20,
   "id": "8a3a5bc5",
   "metadata": {},
   "outputs": [
    {
     "name": "stdout",
     "output_type": "stream",
     "text": [
      "0    8.266410\n",
      "1    7.358644\n",
      "2    7.649541\n",
      "3    7.310059\n",
      "4    7.422754\n",
      "Name: proj_dist_to_center, dtype: float64\n"
     ]
    }
   ],
   "source": [
    "### As the maximum angular distance computed is small, we can use the small angle approximation.\n",
    "\n",
    "### So, for the projected distance to the center, we have:\n",
    "df['proj_dist_to_center'] = df['ang_dist_to_center']*d_A_coma #Mpc\n",
    "\n",
    "print(df['proj_dist_to_center'].head())"
   ]
  },
  {
   "cell_type": "markdown",
   "id": "a6a6e3b2",
   "metadata": {},
   "source": [
    "### Step 7 - Splitting the galaxies in bins of projected distance from the center of Coma and computing the fraction of early-type (E) and late-type (L) galaxies at each bin"
   ]
  },
  {
   "cell_type": "markdown",
   "id": "5309a103",
   "metadata": {},
   "source": [
    "Let us bin the data."
   ]
  },
  {
   "cell_type": "code",
   "execution_count": 21,
   "id": "0d67950b",
   "metadata": {},
   "outputs": [
    {
     "name": "stdout",
     "output_type": "stream",
     "text": [
      "Bin size = 0.8579999999999997 Mpc\n"
     ]
    }
   ],
   "source": [
    "### Binning the data in relation to the project distance to the center.\n",
    "nbins = 10 #Number of bins.\n",
    "\n",
    "df['BINS'] = pd.cut(df['proj_dist_to_center'], nbins)\n",
    "\n",
    "### Obtaining the bin size.\n",
    "bin_size = df['BINS'][0].right - df['BINS'][0].left\n",
    "\n",
    "print(\"Bin size = \"+ str(bin_size)+\" Mpc\")"
   ]
  },
  {
   "cell_type": "markdown",
   "id": "1ab076c3",
   "metadata": {},
   "source": [
    "Now, let us group the data of each bin."
   ]
  },
  {
   "cell_type": "code",
   "execution_count": 22,
   "id": "99eefa8a",
   "metadata": {},
   "outputs": [
    {
     "name": "stdout",
     "output_type": "stream",
     "text": [
      "Galaxies in each bin: \n",
      "BINS\n",
      "(0.0748, 0.941]    64\n",
      "(0.941, 1.799]     48\n",
      "(1.799, 2.657]     34\n",
      "(2.657, 3.514]     27\n",
      "(3.514, 4.372]      8\n",
      "(4.372, 5.23]      18\n",
      "(5.23, 6.087]      11\n",
      "(6.087, 6.945]     17\n",
      "(6.945, 7.803]     17\n",
      "(7.803, 8.661]      6\n",
      "dtype: int64\n",
      "\n",
      "Maximum number of elements in a bin = 64\n",
      "Minimum number of elements in a bin = 6\n",
      "Mean number of elements by bin = 25.0\n"
     ]
    }
   ],
   "source": [
    "### Grouping the data of each bin.\n",
    "bin_groups = df.groupby(df['BINS'])\n",
    "\n",
    "### Obtaining the maximum, minimum and mean number of values in the bins.\n",
    "max_number = bin_groups.size().max()\n",
    "min_number = bin_groups.size().min()\n",
    "mean_number = bin_groups.size().mean()\n",
    "\n",
    "print(\"Galaxies in each bin: \\n\"+str(bin_groups.size())+\"\\n\")\n",
    "print(\"Maximum number of elements in a bin = \"+ str(max_number))\n",
    "print(\"Minimum number of elements in a bin = \"+ str(min_number))\n",
    "print(\"Mean number of elements by bin = \"+ str(mean_number))"
   ]
  },
  {
   "cell_type": "markdown",
   "id": "70a3edd2",
   "metadata": {},
   "source": [
    "Now, let us compute the fraction of early-type (E) and late-type (L) galaxies in each bin. For doing this, I will divide the number of galaxies of a certain type in the bin by the total number of galaxies in the bin."
   ]
  },
  {
   "cell_type": "markdown",
   "id": "6ea1e14b",
   "metadata": {},
   "source": [
    "The uncertainties in the number of galaxies can be thought as Poisson fluctuations (the probability of finding a certain galaxy in a certain region of space is very small compared with the probability of not finding, so it is well modeled by a Poisson distribution). So, we have, for the uncertainty, $\\sigma_{N_i} = \\sqrt{N_i}$, for a certain number of galaxies $N_i$."
   ]
  },
  {
   "cell_type": "markdown",
   "id": "7fa4604f",
   "metadata": {},
   "source": [
    "The math we will do for each galaxy type is as follows: $f_i = \\frac{N_i}{N_T}$. So, for obtaining the uncertainty of the fractions, we must propagate the numbers uncertainties. We can do this by the square root of the derivatives formula (see John R. Taylor book, Introdução à Análise de Erros; in second edition, this is equation 3.47), $\\sigma_{f_i} = \\left(\\left(\\frac{\\partial f_i}{\\partial N_i}\\right)^2 \\sigma_{N_i}^2 + \\left(\\frac{\\partial f_i}{\\partial N_T}\\right)^2 \\sigma_{N_T}^2\\right)^{\\frac{1}{2}}$."
   ]
  },
  {
   "cell_type": "markdown",
   "id": "8aae7641",
   "metadata": {},
   "source": [
    "Applying this formula to our case, we have $\\sigma_{f_i} = \\left( \\left ( \\frac{\\sigma_{N_i}}{N_T} \\right )^2 + \\left ( \\frac{N_i \\sigma_{N_T}}{N_T^2} \\right )^2 \\right)^{\\frac{1}{2}}$."
   ]
  },
  {
   "cell_type": "markdown",
   "id": "fc281593",
   "metadata": {},
   "source": [
    "Let us do it."
   ]
  },
  {
   "cell_type": "code",
   "execution_count": 23,
   "id": "5938402d",
   "metadata": {},
   "outputs": [],
   "source": [
    "### Defining a list with the groups names.\n",
    "groups_names = list(bin_groups.groups)\n",
    "\n",
    "### Defining some arrays for saving the fractions, the errors and also the mid value of each bin.\n",
    "frac_L = np.zeros(len(groups_names))\n",
    "frac_E = np.zeros(len(groups_names))\n",
    "frac_L_e = np.zeros(len(groups_names))\n",
    "frac_E_e = np.zeros(len(groups_names))\n",
    "mid_bin = np.zeros(len(groups_names))\n",
    "\n",
    "### Making a loop, where I get each group (each bin) and compute the fractions, errors and mid value of each bin.\n",
    "j=0\n",
    "for i in groups_names:\n",
    "    ### Getting group by group.                    \n",
    "    group = bin_groups.get_group(i)\n",
    "                    \n",
    "    ### Computing the fractions.\n",
    "    NL = len(group[group['Type']=='L'])\n",
    "    NE = len(group[group['Type']=='E'])\n",
    "    NT = len(group['Type'])\n",
    "    frac_L[j] = NL/NT\n",
    "    frac_E[j] = NE/NT\n",
    "                    \n",
    "    ### Computing the errors.\n",
    "    sigma_NL = np.sqrt(NL)\n",
    "    sigma_NE = np.sqrt(NE)\n",
    "    sigma_NT = np.sqrt(NT)\n",
    "                    \n",
    "    frac_L_e[j] = np.sqrt((sigma_NL/NT)**2 + (NL*sigma_NT/NT**2)**2)\n",
    "    frac_E_e[j] = np.sqrt((sigma_NE/NT)**2 + (NE*sigma_NT/NT**2)**2)                \n",
    "                    \n",
    "    ### Computing the middle of the bins.\n",
    "    mid_bin[j] = (i.left + i.right)/2\n",
    "                    \n",
    "    j+=1"
   ]
  },
  {
   "cell_type": "markdown",
   "id": "1a9bbfca",
   "metadata": {},
   "source": [
    "### Step 8 - Plotting the two fractions as a function of projected distance on the same figure"
   ]
  },
  {
   "cell_type": "markdown",
   "id": "1acf62ce",
   "metadata": {},
   "source": [
    "Now, let us make the plot."
   ]
  },
  {
   "cell_type": "code",
   "execution_count": 24,
   "id": "d547ba43",
   "metadata": {},
   "outputs": [
    {
     "data": {
      "image/png": "[encoded data removed]",
      "text/plain": [
       "<Figure size 504x504 with 1 Axes>"
      ]
     },
     "metadata": {
      "needs_background": "light"
     },
     "output_type": "display_data"
    }
   ],
   "source": [
    "### Making the graph.\n",
    "figure, axis = plt.subplots(figsize=(7,7))\n",
    "\n",
    "eb1=axis.errorbar(mid_bin, frac_L, yerr=frac_L_e, capsize=3, elinewidth=0.7, label='Late Type')\n",
    "eb1[-1][0].set_linestyle('--') \n",
    "eb2=axis.errorbar(mid_bin, frac_E, yerr=frac_E_e, capsize=3, elinewidth=0.7, label='Early Type')\n",
    "eb2[-1][0].set_linestyle('-.')\n",
    "\n",
    "###### AXIS DEF ######\n",
    "### Showing a legend.\n",
    "axis.legend()\n",
    "\n",
    "### Setting the axis labels.\n",
    "axis.set_xlabel(\"Projected distance (Mpc)\")\n",
    "axis.set_ylabel(\"Fraction\")\n",
    "\n",
    "### Setting the title.\n",
    "axis.set_title(\"Plot of the fractions of each galaxy type\")\n",
    "\n",
    "### Setting axis limits.\n",
    "#axis.set_xlim(left=3.3, right=3.5)\n",
    "#axis.set_ylim(bottom=0.4, top=0.6)\n",
    "\n",
    "\n",
    "plt.show()"
   ]
  },
  {
   "cell_type": "markdown",
   "id": "ea23fdb1",
   "metadata": {},
   "source": [
    "So, as we can see, there are more early-type (E's and S0) galaxies near the center of the cluster than late-type (S's and SB's) galaxies. For regions further away from the center, it seems like we have a predominance of late-type galaxies. However, it is worth noting that there are more galaxies in the center than in the outskirts of the cluster, so we can conclude that the cluster probably have a higher number o early-type galaxies."
   ]
  },
  {
   "cell_type": "markdown",
   "id": "950909c8",
   "metadata": {},
   "source": [
    "Let us check this affirmation."
   ]
  },
  {
   "cell_type": "code",
   "execution_count": 25,
   "id": "7443d933",
   "metadata": {},
   "outputs": [
    {
     "name": "stdout",
     "output_type": "stream",
     "text": [
      "Fraction of early type galaxies in the sample (considering the ones with measured cz) = 0.552\n",
      "Fraction of late type galaxies in the sample (considering the ones with measured cz) = 0.364\n"
     ]
    }
   ],
   "source": [
    "early_type_num = len(df[df['Type'] == 'E']['Type'])\n",
    "late_type_num = len(df[df['Type'] == 'L']['Type'])\n",
    "total_num = len(df['Type'])\n",
    "\n",
    "print('Fraction of early type galaxies in the sample (considering the ones with measured cz) = '\n",
    "      +str(early_type_num/total_num))\n",
    "print('Fraction of late type galaxies in the sample (considering the ones with measured cz) = '\n",
    "      +str(late_type_num/total_num))"
   ]
  },
  {
   "cell_type": "markdown",
   "id": "affa67b0",
   "metadata": {},
   "source": [
    "## PART 2 - Steps 9 to 12"
   ]
  },
  {
   "cell_type": "markdown",
   "id": "8b8e64f9",
   "metadata": {},
   "source": [
    "### Step 9 - Computing, for each galaxy in the Coma cluster sample, the angular distance from the others, and converting these distances to projected physical distances using the distance to the cluster, as done before"
   ]
  },
  {
   "cell_type": "markdown",
   "id": "d6226dc2",
   "metadata": {},
   "source": [
    "First, I will reset the index of the dataframe."
   ]
  },
  {
   "cell_type": "code",
   "execution_count": 26,
   "id": "9206752a",
   "metadata": {},
   "outputs": [
    {
     "name": "stdout",
     "output_type": "stream",
     "text": [
      "   index  RAJ2000_h  RAJ2000_m  RAJ2000_s  DEJ2000_d  DEJ2000_m  DEJ2000_s  \\\n",
      "0      0       12.0       39.0     7.9576       30.0       24.0     23.619   \n",
      "1      1       12.0       39.0    12.2889       27.0       44.0     35.754   \n",
      "2      2       12.0       39.0    17.1672       26.0       40.0     40.506   \n",
      "3      3       12.0       39.0    18.0035       27.0       54.0     30.824   \n",
      "4      4       12.0       39.0    18.5729       28.0       54.0     14.437   \n",
      "\n",
      "  Num     CGCG NGC_IC  ... RAicrs_m RAicrs_s DEicrs_d DEicrs_m RAicrs_s  \\\n",
      "0   6      NaN    NaN  ...       39    07.96      +30       24     23.6   \n",
      "1   8  Z159042    NaN  ...       39    12.29      +27       44     35.8   \n",
      "2   9  Z159041  I3618  ...       39    17.17      +26       40     40.5   \n",
      "3  10  Z159044  I3620  ...       39    18.00      +27       54     30.8   \n",
      "4  11  Z159045    NaN  ...       39    18.57      +28       54     14.4   \n",
      "\n",
      "  RAJ2000_rad DEJ2000_rad ang_dist_to_center proj_dist_to_center  \\\n",
      "0    3.312341    0.530695           0.089412            8.266410   \n",
      "1    3.312656    0.484211           0.079593            7.358644   \n",
      "2    3.313011    0.465618           0.082739            7.649541   \n",
      "3    3.313072    0.487096           0.079068            7.310059   \n",
      "4    3.313113    0.504470           0.080286            7.422754   \n",
      "\n",
      "             BINS  \n",
      "0  (7.803, 8.661]  \n",
      "1  (6.945, 7.803]  \n",
      "2  (6.945, 7.803]  \n",
      "3  (6.945, 7.803]  \n",
      "4  (6.945, 7.803]  \n",
      "\n",
      "[5 rows x 33 columns]\n"
     ]
    }
   ],
   "source": [
    "df = df.reset_index()\n",
    "\n",
    "print(df.head())"
   ]
  },
  {
   "cell_type": "markdown",
   "id": "776213b4",
   "metadata": {},
   "source": [
    "Now, I will compute the angular distance of each one of the galaxies to the others. In the loop, I will also compute the projected physical distances (Mpc) and save them in the dataframe."
   ]
  },
  {
   "cell_type": "code",
   "execution_count": 27,
   "id": "49a51599",
   "metadata": {},
   "outputs": [
    {
     "name": "stderr",
     "output_type": "stream",
     "text": [
      "/tmp/ipykernel_78169/2907455219.py:7: RuntimeWarning: invalid value encountered in arccos\n",
      "  ang_dist = np.arccos(np.cos(dec1)*np.cos(dec2)*(np.cos(ra1)*np.cos(ra2) + np.sin(ra1)*np.sin(ra2)) +\n"
     ]
    }
   ],
   "source": [
    "for row in range(0, len(df)):\n",
    "    for col in range(0, len(df)):\n",
    "        col_name = 'd_to_'+str(col)\n",
    "        \n",
    "        ra1 = df.loc[row, 'RAJ2000_rad'] \n",
    "        dec1 = df.loc[row, 'DEJ2000_rad']\n",
    "        \n",
    "        ra2 = df.loc[col, 'RAJ2000_rad']\n",
    "        dec2 = df.loc[col, 'DEJ2000_rad']\n",
    "        \n",
    "        angular_distance = ang_dist(ra1, dec1, ra2, dec2)\n",
    "        \n",
    "        df.loc[row, col_name] = angular_distance*d_A_coma"
   ]
  },
  {
   "cell_type": "code",
   "execution_count": 28,
   "id": "54fb7ddf",
   "metadata": {},
   "outputs": [
    {
     "name": "stdout",
     "output_type": "stream",
     "text": [
      "   index  RAJ2000_h  RAJ2000_m  RAJ2000_s  DEJ2000_d  DEJ2000_m  DEJ2000_s  \\\n",
      "0      0       12.0       39.0     7.9576       30.0       24.0     23.619   \n",
      "1      1       12.0       39.0    12.2889       27.0       44.0     35.754   \n",
      "2      2       12.0       39.0    17.1672       26.0       40.0     40.506   \n",
      "3      3       12.0       39.0    18.0035       27.0       54.0     30.824   \n",
      "4      4       12.0       39.0    18.5729       28.0       54.0     14.437   \n",
      "\n",
      "  Num     CGCG NGC_IC  ...   d_to_240   d_to_241   d_to_242   d_to_243  \\\n",
      "0   6      NaN    NaN  ...  12.523239  12.779151  12.888222  12.931366   \n",
      "1   8  Z159042    NaN  ...  13.371128  13.238428  13.995560  13.901379   \n",
      "2   9  Z159041  I3618  ...  14.048801  13.777634  14.750198  14.609599   \n",
      "3  10  Z159044  I3620  ...  13.246494  13.135538  13.858293  13.771396   \n",
      "4  11  Z159045    NaN  ...  12.787040  12.818571  13.310303  13.272521   \n",
      "\n",
      "    d_to_244   d_to_245   d_to_246   d_to_247   d_to_248   d_to_249  \n",
      "0  12.981476  13.290824  13.346776  14.376774  14.220939  14.287299  \n",
      "1  14.123561  14.428743  14.497497  14.255830  14.877521  15.341561  \n",
      "2  14.887528  15.184591  15.256393  14.545166  15.449859  16.049120  \n",
      "3  13.984721  14.290853  14.359070  14.190621  14.767559  15.210258  \n",
      "4  13.425314  13.735702  13.799877  14.102405  14.392658  14.693064  \n",
      "\n",
      "[5 rows x 283 columns]\n"
     ]
    }
   ],
   "source": [
    "print(df.head())"
   ]
  },
  {
   "cell_type": "markdown",
   "id": "54e90a50",
   "metadata": {},
   "source": [
    "### Step 10 - Choosing a small integer N, 2 <= N <= 6, and computing, for each galaxy, the local surface density of neighbours"
   ]
  },
  {
   "cell_type": "markdown",
   "id": "33b2ac9b",
   "metadata": {},
   "source": [
    "Now, for each galaxy, I will get the N (some integer between 2 and 6) nearest neighbors. Then, I will compute, for each galaxy, the local surface density of neighbors, given by the relation $n = \\frac{N}{\\pi R^2(N)}$, where $R(N)$ is the projected distance of the N-th galaxy. "
   ]
  },
  {
   "cell_type": "code",
   "execution_count": 29,
   "id": "0ffc4cd6",
   "metadata": {},
   "outputs": [],
   "source": [
    "### Numbers of neighbors I will get.\n",
    "N = 5\n",
    " \n",
    "for row in range(0, len(df)):\n",
    "    ### Sorting the distance values in ascending order and getting the N nearest neighbors.\n",
    "    ### The first value (position 0) is 0, because it is the distance of the galaxy to itself.\n",
    "    R_N = df.loc[row, 'd_to_0':'d_to_249'].sort_values()[1:N+1].max()\n",
    "    \n",
    "    ### Computing the local surface density of neighbors and saving in the dataframe.\n",
    "    df.loc[row, 'surf_dens_neighbors'] = N/(np.pi*R_N**2)"
   ]
  },
  {
   "cell_type": "code",
   "execution_count": 30,
   "id": "1f3d8d5c",
   "metadata": {},
   "outputs": [
    {
     "name": "stdout",
     "output_type": "stream",
     "text": [
      "   index  RAJ2000_h  RAJ2000_m  RAJ2000_s  DEJ2000_d  DEJ2000_m  DEJ2000_s  \\\n",
      "0      0       12.0       39.0     7.9576       30.0       24.0     23.619   \n",
      "1      1       12.0       39.0    12.2889       27.0       44.0     35.754   \n",
      "2      2       12.0       39.0    17.1672       26.0       40.0     40.506   \n",
      "3      3       12.0       39.0    18.0035       27.0       54.0     30.824   \n",
      "4      4       12.0       39.0    18.5729       28.0       54.0     14.437   \n",
      "\n",
      "  Num     CGCG NGC_IC  ...   d_to_241   d_to_242   d_to_243   d_to_244  \\\n",
      "0   6      NaN    NaN  ...  12.779151  12.888222  12.931366  12.981476   \n",
      "1   8  Z159042    NaN  ...  13.238428  13.995560  13.901379  14.123561   \n",
      "2   9  Z159041  I3618  ...  13.777634  14.750198  14.609599  14.887528   \n",
      "3  10  Z159044  I3620  ...  13.135538  13.858293  13.771396  13.984721   \n",
      "4  11  Z159045    NaN  ...  12.818571  13.310303  13.272521  13.425314   \n",
      "\n",
      "    d_to_245   d_to_246   d_to_247   d_to_248   d_to_249 surf_dens_neighbors  \n",
      "0  13.290824  13.346776  14.376774  14.220939  14.287299            0.254017  \n",
      "1  14.428743  14.497497  14.255830  14.877521  15.341561            1.476434  \n",
      "2  15.184591  15.256393  14.545166  15.449859  16.049120            0.562177  \n",
      "3  14.290853  14.359070  14.190621  14.767559  15.210258            0.938603  \n",
      "4  13.735702  13.799877  14.102405  14.392658  14.693064            0.473456  \n",
      "\n",
      "[5 rows x 284 columns]\n"
     ]
    }
   ],
   "source": [
    "print(df.head())"
   ]
  },
  {
   "cell_type": "markdown",
   "id": "d47f6260",
   "metadata": {},
   "source": [
    "### Step 11 - Examining the values of the surface densities from the previous item and defining an array of density values that covers the range of values for the sample"
   ]
  },
  {
   "cell_type": "markdown",
   "id": "6b14e23a",
   "metadata": {},
   "source": [
    "First, I will examine the values of the surface densities from the previous item, given in units of $\\frac{\\#galaxies}{Mpc^2}$. "
   ]
  },
  {
   "cell_type": "code",
   "execution_count": 31,
   "id": "388f3dd2",
   "metadata": {},
   "outputs": [
    {
     "name": "stdout",
     "output_type": "stream",
     "text": [
      "Minimum surface density = 0.1322279685107934\n",
      "Maximum surface density = 234.08378850832315\n"
     ]
    }
   ],
   "source": [
    "surf_dens_min = df['surf_dens_neighbors'].min()\n",
    "surf_dens_max = df['surf_dens_neighbors'].max()\n",
    "\n",
    "print('Minimum surface density = '+str(surf_dens_min))\n",
    "print('Maximum surface density = '+str(surf_dens_max))"
   ]
  },
  {
   "cell_type": "markdown",
   "id": "f29e082c",
   "metadata": {},
   "source": [
    "Now, I will define an array of density values that covers the range of values for the sample. I will use a log scale for the array."
   ]
  },
  {
   "cell_type": "code",
   "execution_count": 32,
   "id": "5680effa",
   "metadata": {},
   "outputs": [
    {
     "name": "stdout",
     "output_type": "stream",
     "text": [
      "[1.32095741e-01 3.03304984e-01 6.96418470e-01 1.59904621e+00\n",
      " 3.67156945e+00 8.43028935e+00 1.93567845e+01 4.44451062e+01\n",
      " 1.02050393e+02 2.34317872e+02]\n"
     ]
    }
   ],
   "source": [
    "### Consider 10^x = value. I will get x (exponent of the corresponding power of 10) for value being surf_dens_min \n",
    "### and surf_dens_max.\n",
    "x_min = np.log10(surf_dens_min*0.999)    # The multiplying factors are for us to be sure to include the min \n",
    "x_max = np.log10(surf_dens_max*1.001)    # and the max values.\n",
    "\n",
    "### Defining n_bins values in a log scale from surf_dens_min to surf_dens_max.\n",
    "n_bins = 10\n",
    "bins = np.logspace(x_min, x_max, n_bins)\n",
    "\n",
    "print(bins)"
   ]
  },
  {
   "cell_type": "markdown",
   "id": "63697eac",
   "metadata": {},
   "source": [
    "### Step 12 - Redoing items 7 and 8, but now splitting galaxies in bins of surface density and determining the fractions of E e L galaxies as a function of this quantity."
   ]
  },
  {
   "cell_type": "markdown",
   "id": "7e580b3f",
   "metadata": {},
   "source": [
    "Let us bin the data using the previous array (the log-scale array)."
   ]
  },
  {
   "cell_type": "code",
   "execution_count": 33,
   "id": "831e11a3",
   "metadata": {},
   "outputs": [],
   "source": [
    "df['BINS_SURF'] = pd.cut(df['surf_dens_neighbors'], bins)"
   ]
  },
  {
   "cell_type": "markdown",
   "id": "46cc69b2",
   "metadata": {},
   "source": [
    "Now, let us group the data of each bin."
   ]
  },
  {
   "cell_type": "code",
   "execution_count": 34,
   "id": "127c877b",
   "metadata": {},
   "outputs": [
    {
     "name": "stdout",
     "output_type": "stream",
     "text": [
      "Galaxies in each bin: \n",
      "BINS_SURF\n",
      "(0.132, 0.303]        9\n",
      "(0.303, 0.696]       26\n",
      "(0.696, 1.599]       40\n",
      "(1.599, 3.672]       40\n",
      "(3.672, 8.43]        48\n",
      "(8.43, 19.357]       32\n",
      "(19.357, 44.445]     25\n",
      "(44.445, 102.05]     23\n",
      "(102.05, 234.318]     7\n",
      "dtype: int64\n",
      "\n",
      "Maximum number of elements in a bin = 48\n",
      "Minimum number of elements in a bin = 7\n",
      "Mean number of elements by bin = 27.77777777777778\n"
     ]
    }
   ],
   "source": [
    "### Grouping the data of each bin.\n",
    "bin_groups = df.groupby(df['BINS_SURF'])\n",
    "\n",
    "### Obtaining the maximum, minimum and mean number of values in the bins.\n",
    "max_number = bin_groups.size().max()\n",
    "min_number = bin_groups.size().min()\n",
    "mean_number = bin_groups.size().mean()\n",
    "\n",
    "print(\"Galaxies in each bin: \\n\"+str(bin_groups.size())+\"\\n\")\n",
    "print(\"Maximum number of elements in a bin = \"+ str(max_number))\n",
    "print(\"Minimum number of elements in a bin = \"+ str(min_number))\n",
    "print(\"Mean number of elements by bin = \"+ str(mean_number))"
   ]
  },
  {
   "cell_type": "markdown",
   "id": "f3dee2ef",
   "metadata": {},
   "source": [
    "Now, let us compute the fraction of early-type (E) and late-type (L) galaxies in each bin, and also the errors."
   ]
  },
  {
   "cell_type": "code",
   "execution_count": 35,
   "id": "85da2317",
   "metadata": {},
   "outputs": [],
   "source": [
    "### Defining a list with the groups names.\n",
    "groups_names = list(bin_groups.groups)\n",
    "\n",
    "### Defining some arrays for saving the fractions, the errors and also the mid value of each bin.\n",
    "frac_L = np.zeros(len(groups_names))\n",
    "frac_E = np.zeros(len(groups_names))\n",
    "frac_L_e = np.zeros(len(groups_names))\n",
    "frac_E_e = np.zeros(len(groups_names))\n",
    "mid_bin = np.zeros(len(groups_names))\n",
    "\n",
    "### Making a loop, where I get each group (each bin) and compute the fractions, errors and mid value of each bin.\n",
    "j=0\n",
    "for i in groups_names:\n",
    "    ### Getting group by group.                    \n",
    "    group = bin_groups.get_group(i)\n",
    "                    \n",
    "    ### Computing the fractions.\n",
    "    NL = len(group[group['Type']=='L'])\n",
    "    NE = len(group[group['Type']=='E'])\n",
    "    NT = len(group['Type'])\n",
    "    frac_L[j] = NL/NT\n",
    "    frac_E[j] = NE/NT\n",
    "                    \n",
    "    ### Computing the errors.\n",
    "    sigma_NL = np.sqrt(NL)\n",
    "    sigma_NE = np.sqrt(NE)\n",
    "    sigma_NT = np.sqrt(NT)\n",
    "                    \n",
    "    frac_L_e[j] = np.sqrt((sigma_NL/NT)**2 + (NL*sigma_NT/NT**2)**2)\n",
    "    frac_E_e[j] = np.sqrt((sigma_NE/NT)**2 + (NE*sigma_NT/NT**2)**2)                \n",
    "                    \n",
    "    ### Computing the middle of the bins.\n",
    "    mid_bin[j] = (i.left + i.right)/2\n",
    "                    \n",
    "    j+=1"
   ]
  },
  {
   "cell_type": "markdown",
   "id": "04693ea6",
   "metadata": {},
   "source": [
    "Now, let us make the plot."
   ]
  },
  {
   "cell_type": "code",
   "execution_count": 36,
   "id": "700451c1",
   "metadata": {},
   "outputs": [
    {
     "data": {
      "image/png": "[encoded data removed]",
      "text/plain": [
       "<Figure size 504x504 with 1 Axes>"
      ]
     },
     "metadata": {
      "needs_background": "light"
     },
     "output_type": "display_data"
    }
   ],
   "source": [
    "### Making the graph.\n",
    "figure, axis = plt.subplots(figsize=(7,7))\n",
    "\n",
    "eb1=axis.errorbar(mid_bin, frac_L, yerr=frac_L_e, capsize=3, elinewidth=0.7, label='Late Type')\n",
    "eb1[-1][0].set_linestyle('--') \n",
    "eb2=axis.errorbar(mid_bin, frac_E, yerr=frac_E_e, capsize=3, elinewidth=0.7, label='Early Type')\n",
    "eb2[-1][0].set_linestyle('-.')\n",
    "\n",
    "###### AXIS DEF ######\n",
    "### Showing a legend.\n",
    "axis.legend()\n",
    "\n",
    "### Setting the axis labels.\n",
    "axis.set_xlabel(\"Surface density ($\\\\frac{\\# galaxies}{Mpc^2}$)\")\n",
    "axis.set_ylabel(\"Fraction\")\n",
    "\n",
    "### Setting the title.\n",
    "axis.set_title(\"Plot of the fractions of each galaxy type\")\n",
    "\n",
    "### Setting axis scale.\n",
    "axis.set_xscale('log')\n",
    "\n",
    "\n",
    "plt.show()"
   ]
  },
  {
   "cell_type": "markdown",
   "id": "4a586021",
   "metadata": {},
   "source": [
    "So, as we can see, there are more early-type (E's and S0) galaxies in regions of high surface densities than late-type (S's and SB's) galaxies. This is in agreement with the discussion for the morphology-radius relation, since regions of high surface densities are regions next to the center.\n",
    "\n",
    "For regions of low surface density (further away from the center), it seems like we have a predominance of late-type galaxies; this is again in agreement with the discussion for the morphology-radius relation."
   ]
  }
 ],
 "metadata": {
  "kernelspec": {
   "display_name": "Python 3 (ipykernel)",
   "language": "python",
   "name": "python3"
  },
  "language_info": {
   "codemirror_mode": {
    "name": "ipython",
    "version": 3
   },
   "file_extension": ".py",
   "mimetype": "text/x-python",
   "name": "python",
   "nbconvert_exporter": "python",
   "pygments_lexer": "ipython3",
   "version": "3.8.10"
  }
 },
 "nbformat": 4,
 "nbformat_minor": 5
}
