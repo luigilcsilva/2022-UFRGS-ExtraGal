{
 "cells": [
  {
   "cell_type": "markdown",
   "id": "e5044c0c",
   "metadata": {},
   "source": [
    "# Exercise April, 6th 2022 - Determining the Luminosity Function of field galaxies\n",
    "\n",
    "Student: Luigi Lucas de Carvalho Silva <br> \n",
    "UFRGS Card: 338979 <br>\n",
    "Email: luigi.lcsilva@gmail.com"
   ]
  },
  {
   "cell_type": "markdown",
   "id": "2d287d39",
   "metadata": {},
   "source": [
    "First of all, let us import some useful packages."
   ]
  },
  {
   "cell_type": "code",
   "execution_count": 1,
   "id": "509ffd71",
   "metadata": {},
   "outputs": [],
   "source": [
    "import numpy as np\n",
    "import matplotlib.ticker\n",
    "import matplotlib.pyplot as plt\n",
    "%matplotlib inline\n",
    "import pandas as pd\n",
    "import os\n",
    "import glob\n",
    "import scipy.constants\n",
    "\n",
    "#Pandas was giving some annoying warnings, of type \"SettingWithCopyWarning\", which didn't influence the results. \n",
    "#The line below causes these warnings to be omitted.\n",
    "pd.options.mode.chained_assignment = None  #default='warn'"
   ]
  },
  {
   "cell_type": "markdown",
   "id": "27a5d77b",
   "metadata": {},
   "source": [
    "## PART 1 - Steps 1 to 10"
   ]
  },
  {
   "cell_type": "markdown",
   "id": "48473297",
   "metadata": {},
   "source": [
    "### Step 1 - Reading the file."
   ]
  },
  {
   "cell_type": "markdown",
   "id": "f194e4f7",
   "metadata": {},
   "source": [
    "First of all, let us read the file containing the LCRS sample using pandas."
   ]
  },
  {
   "cell_type": "code",
   "execution_count": 2,
   "id": "86c033f1",
   "metadata": {},
   "outputs": [],
   "source": [
    "#Opening the data. All the data will come to the dataframe as strings! Be careful!\n",
    "df = pd.read_csv(\"catalog.dat\", delim_whitespace=True, header=None, engine=\"python\")\n",
    "\n",
    "#Defining the first row as the columns names.\n",
    "df.columns = df.iloc[0]\n",
    "\n",
    "#Dropping the first row (this has been transfered to columns names) and reseting the index.\n",
    "df = df.drop(0, axis=0)\n",
    "df = df.reset_index(drop=True)"
   ]
  },
  {
   "cell_type": "code",
   "execution_count": 3,
   "id": "9957e272",
   "metadata": {},
   "outputs": [
    {
     "data": {
      "text/html": [
       "<div>\n",
       "<style scoped>\n",
       "    .dataframe tbody tr th:only-of-type {\n",
       "        vertical-align: middle;\n",
       "    }\n",
       "\n",
       "    .dataframe tbody tr th {\n",
       "        vertical-align: top;\n",
       "    }\n",
       "\n",
       "    .dataframe thead th {\n",
       "        text-align: right;\n",
       "    }\n",
       "</style>\n",
       "<table border=\"1\" class=\"dataframe\">\n",
       "  <thead>\n",
       "    <tr style=\"text-align: right;\">\n",
       "      <th></th>\n",
       "      <th>field</th>\n",
       "      <th>p</th>\n",
       "      <th>mag</th>\n",
       "      <th>scan</th>\n",
       "      <th>mc</th>\n",
       "      <th>RAh</th>\n",
       "      <th>RAm</th>\n",
       "      <th>RAs</th>\n",
       "      <th>DEd</th>\n",
       "      <th>DEm</th>\n",
       "      <th>DEs</th>\n",
       "      <th>s</th>\n",
       "      <th>type</th>\n",
       "      <th>cz</th>\n",
       "      <th>e_cz</th>\n",
       "      <th>sf</th>\n",
       "      <th>gsf</th>\n",
       "      <th>cz55</th>\n",
       "    </tr>\n",
       "  </thead>\n",
       "  <tbody>\n",
       "    <tr>\n",
       "      <th>0</th>\n",
       "      <td>0000-42E</td>\n",
       "      <td>496.0</td>\n",
       "      <td>17.52</td>\n",
       "      <td>0000-4225</td>\n",
       "      <td>18.36</td>\n",
       "      <td>00</td>\n",
       "      <td>08</td>\n",
       "      <td>30.09</td>\n",
       "      <td>-42</td>\n",
       "      <td>25</td>\n",
       "      <td>55.5</td>\n",
       "      <td>None</td>\n",
       "      <td>None</td>\n",
       "      <td>None</td>\n",
       "      <td>None</td>\n",
       "      <td>None</td>\n",
       "      <td>None</td>\n",
       "      <td>None</td>\n",
       "    </tr>\n",
       "    <tr>\n",
       "      <th>1</th>\n",
       "      <td>0000-42E</td>\n",
       "      <td>583.0</td>\n",
       "      <td>18.02</td>\n",
       "      <td>0000-4212</td>\n",
       "      <td>18.46</td>\n",
       "      <td>00</td>\n",
       "      <td>08</td>\n",
       "      <td>31.98</td>\n",
       "      <td>-42</td>\n",
       "      <td>12</td>\n",
       "      <td>22.9</td>\n",
       "      <td>None</td>\n",
       "      <td>None</td>\n",
       "      <td>None</td>\n",
       "      <td>None</td>\n",
       "      <td>None</td>\n",
       "      <td>None</td>\n",
       "      <td>None</td>\n",
       "    </tr>\n",
       "    <tr>\n",
       "      <th>2</th>\n",
       "      <td>0000-42E</td>\n",
       "      <td>514.0</td>\n",
       "      <td>17.92</td>\n",
       "      <td>0000-4237</td>\n",
       "      <td>18.27</td>\n",
       "      <td>00</td>\n",
       "      <td>08</td>\n",
       "      <td>33.01</td>\n",
       "      <td>-42</td>\n",
       "      <td>33</td>\n",
       "      <td>45.7</td>\n",
       "      <td>None</td>\n",
       "      <td>None</td>\n",
       "      <td>None</td>\n",
       "      <td>None</td>\n",
       "      <td>None</td>\n",
       "      <td>None</td>\n",
       "      <td>None</td>\n",
       "    </tr>\n",
       "    <tr>\n",
       "      <th>3</th>\n",
       "      <td>0000-42E</td>\n",
       "      <td>512.2</td>\n",
       "      <td>15.70</td>\n",
       "      <td>0000-4147</td>\n",
       "      <td>14.16</td>\n",
       "      <td>00</td>\n",
       "      <td>08</td>\n",
       "      <td>33.20</td>\n",
       "      <td>-41</td>\n",
       "      <td>48</td>\n",
       "      <td>53.3</td>\n",
       "      <td>None</td>\n",
       "      <td>None</td>\n",
       "      <td>None</td>\n",
       "      <td>None</td>\n",
       "      <td>None</td>\n",
       "      <td>None</td>\n",
       "      <td>None</td>\n",
       "    </tr>\n",
       "    <tr>\n",
       "      <th>4</th>\n",
       "      <td>0000-42E</td>\n",
       "      <td>501.0</td>\n",
       "      <td>17.51</td>\n",
       "      <td>0000-4225</td>\n",
       "      <td>18.30</td>\n",
       "      <td>00</td>\n",
       "      <td>08</td>\n",
       "      <td>33.45</td>\n",
       "      <td>-42</td>\n",
       "      <td>29</td>\n",
       "      <td>20.9</td>\n",
       "      <td>None</td>\n",
       "      <td>None</td>\n",
       "      <td>None</td>\n",
       "      <td>None</td>\n",
       "      <td>None</td>\n",
       "      <td>None</td>\n",
       "      <td>None</td>\n",
       "    </tr>\n",
       "    <tr>\n",
       "      <th>...</th>\n",
       "      <td>...</td>\n",
       "      <td>...</td>\n",
       "      <td>...</td>\n",
       "      <td>...</td>\n",
       "      <td>...</td>\n",
       "      <td>...</td>\n",
       "      <td>...</td>\n",
       "      <td>...</td>\n",
       "      <td>...</td>\n",
       "      <td>...</td>\n",
       "      <td>...</td>\n",
       "      <td>...</td>\n",
       "      <td>...</td>\n",
       "      <td>...</td>\n",
       "      <td>...</td>\n",
       "      <td>...</td>\n",
       "      <td>...</td>\n",
       "      <td>...</td>\n",
       "    </tr>\n",
       "    <tr>\n",
       "      <th>94954</th>\n",
       "      <td>2355-45W</td>\n",
       "      <td>344.0</td>\n",
       "      <td>16.96</td>\n",
       "      <td>2355-4500+</td>\n",
       "      <td>17.68</td>\n",
       "      <td>23</td>\n",
       "      <td>57</td>\n",
       "      <td>28.79</td>\n",
       "      <td>-45</td>\n",
       "      <td>05</td>\n",
       "      <td>01.4</td>\n",
       "      <td>None</td>\n",
       "      <td>None</td>\n",
       "      <td>None</td>\n",
       "      <td>None</td>\n",
       "      <td>None</td>\n",
       "      <td>None</td>\n",
       "      <td>None</td>\n",
       "    </tr>\n",
       "    <tr>\n",
       "      <th>94955</th>\n",
       "      <td>2355-45W</td>\n",
       "      <td>345.0</td>\n",
       "      <td>18.45</td>\n",
       "      <td>2355-4435</td>\n",
       "      <td>19.67</td>\n",
       "      <td>23</td>\n",
       "      <td>57</td>\n",
       "      <td>31.48</td>\n",
       "      <td>-44</td>\n",
       "      <td>33</td>\n",
       "      <td>50.1</td>\n",
       "      <td>None</td>\n",
       "      <td>None</td>\n",
       "      <td>None</td>\n",
       "      <td>None</td>\n",
       "      <td>None</td>\n",
       "      <td>None</td>\n",
       "      <td>None</td>\n",
       "    </tr>\n",
       "    <tr>\n",
       "      <th>94956</th>\n",
       "      <td>2355-45W</td>\n",
       "      <td>346.0</td>\n",
       "      <td>16.56</td>\n",
       "      <td>2355-4435</td>\n",
       "      <td>18.22</td>\n",
       "      <td>23</td>\n",
       "      <td>57</td>\n",
       "      <td>38.90</td>\n",
       "      <td>-44</td>\n",
       "      <td>32</td>\n",
       "      <td>19.7</td>\n",
       "      <td>25B</td>\n",
       "      <td>b</td>\n",
       "      <td>12501</td>\n",
       "      <td>43</td>\n",
       "      <td>0.685</td>\n",
       "      <td>0.555</td>\n",
       "      <td>None</td>\n",
       "    </tr>\n",
       "    <tr>\n",
       "      <th>94957</th>\n",
       "      <td>2355-45W</td>\n",
       "      <td>347.0</td>\n",
       "      <td>16.45</td>\n",
       "      <td>2355-4500</td>\n",
       "      <td>17.85</td>\n",
       "      <td>23</td>\n",
       "      <td>57</td>\n",
       "      <td>39.69</td>\n",
       "      <td>-45</td>\n",
       "      <td>04</td>\n",
       "      <td>20.1</td>\n",
       "      <td>26C</td>\n",
       "      <td>b</td>\n",
       "      <td>26755</td>\n",
       "      <td>68</td>\n",
       "      <td>0.736</td>\n",
       "      <td>0.895</td>\n",
       "      <td>None</td>\n",
       "    </tr>\n",
       "    <tr>\n",
       "      <th>94958</th>\n",
       "      <td>2355-45W</td>\n",
       "      <td>348.0</td>\n",
       "      <td>18.41</td>\n",
       "      <td>2355-4447</td>\n",
       "      <td>18.99</td>\n",
       "      <td>23</td>\n",
       "      <td>57</td>\n",
       "      <td>40.05</td>\n",
       "      <td>-44</td>\n",
       "      <td>48</td>\n",
       "      <td>33.1</td>\n",
       "      <td>None</td>\n",
       "      <td>None</td>\n",
       "      <td>None</td>\n",
       "      <td>None</td>\n",
       "      <td>None</td>\n",
       "      <td>None</td>\n",
       "      <td>None</td>\n",
       "    </tr>\n",
       "  </tbody>\n",
       "</table>\n",
       "<p>94959 rows × 18 columns</p>\n",
       "</div>"
      ],
      "text/plain": [
       "0         field      p    mag        scan     mc RAh RAm    RAs  DEd DEm  \\\n",
       "0      0000-42E  496.0  17.52   0000-4225  18.36  00  08  30.09  -42  25   \n",
       "1      0000-42E  583.0  18.02   0000-4212  18.46  00  08  31.98  -42  12   \n",
       "2      0000-42E  514.0  17.92   0000-4237  18.27  00  08  33.01  -42  33   \n",
       "3      0000-42E  512.2  15.70   0000-4147  14.16  00  08  33.20  -41  48   \n",
       "4      0000-42E  501.0  17.51   0000-4225  18.30  00  08  33.45  -42  29   \n",
       "...         ...    ...    ...         ...    ...  ..  ..    ...  ...  ..   \n",
       "94954  2355-45W  344.0  16.96  2355-4500+  17.68  23  57  28.79  -45  05   \n",
       "94955  2355-45W  345.0  18.45   2355-4435  19.67  23  57  31.48  -44  33   \n",
       "94956  2355-45W  346.0  16.56   2355-4435  18.22  23  57  38.90  -44  32   \n",
       "94957  2355-45W  347.0  16.45   2355-4500  17.85  23  57  39.69  -45  04   \n",
       "94958  2355-45W  348.0  18.41   2355-4447  18.99  23  57  40.05  -44  48   \n",
       "\n",
       "0       DEs     s  type     cz  e_cz     sf    gsf  cz55  \n",
       "0      55.5  None  None   None  None   None   None  None  \n",
       "1      22.9  None  None   None  None   None   None  None  \n",
       "2      45.7  None  None   None  None   None   None  None  \n",
       "3      53.3  None  None   None  None   None   None  None  \n",
       "4      20.9  None  None   None  None   None   None  None  \n",
       "...     ...   ...   ...    ...   ...    ...    ...   ...  \n",
       "94954  01.4  None  None   None  None   None   None  None  \n",
       "94955  50.1  None  None   None  None   None   None  None  \n",
       "94956  19.7   25B     b  12501    43  0.685  0.555  None  \n",
       "94957  20.1   26C     b  26755    68  0.736  0.895  None  \n",
       "94958  33.1  None  None   None  None   None   None  None  \n",
       "\n",
       "[94959 rows x 18 columns]"
      ]
     },
     "execution_count": 3,
     "metadata": {},
     "output_type": "execute_result"
    }
   ],
   "source": [
    "df"
   ]
  },
  {
   "cell_type": "markdown",
   "id": "fee7dcc0",
   "metadata": {},
   "source": [
    "### Step 2 - Keeping only galaxies with measured redshifts"
   ]
  },
  {
   "cell_type": "markdown",
   "id": "d14ab567",
   "metadata": {},
   "source": [
    "Next, I will keep in the dataframe only galaxies with measured redshifts."
   ]
  },
  {
   "cell_type": "code",
   "execution_count": 4,
   "id": "86ee5858",
   "metadata": {},
   "outputs": [],
   "source": [
    "#Dropping rows for which cz is \"None\".\n",
    "df = df[df['cz'].notna()]\n",
    "\n",
    "#Reseting the index.\n",
    "df = df.reset_index(drop=True)"
   ]
  },
  {
   "cell_type": "code",
   "execution_count": 5,
   "id": "09f241e6",
   "metadata": {},
   "outputs": [
    {
     "data": {
      "text/html": [
       "<div>\n",
       "<style scoped>\n",
       "    .dataframe tbody tr th:only-of-type {\n",
       "        vertical-align: middle;\n",
       "    }\n",
       "\n",
       "    .dataframe tbody tr th {\n",
       "        vertical-align: top;\n",
       "    }\n",
       "\n",
       "    .dataframe thead th {\n",
       "        text-align: right;\n",
       "    }\n",
       "</style>\n",
       "<table border=\"1\" class=\"dataframe\">\n",
       "  <thead>\n",
       "    <tr style=\"text-align: right;\">\n",
       "      <th></th>\n",
       "      <th>field</th>\n",
       "      <th>p</th>\n",
       "      <th>mag</th>\n",
       "      <th>scan</th>\n",
       "      <th>mc</th>\n",
       "      <th>RAh</th>\n",
       "      <th>RAm</th>\n",
       "      <th>RAs</th>\n",
       "      <th>DEd</th>\n",
       "      <th>DEm</th>\n",
       "      <th>DEs</th>\n",
       "      <th>s</th>\n",
       "      <th>type</th>\n",
       "      <th>cz</th>\n",
       "      <th>e_cz</th>\n",
       "      <th>sf</th>\n",
       "      <th>gsf</th>\n",
       "      <th>cz55</th>\n",
       "    </tr>\n",
       "  </thead>\n",
       "  <tbody>\n",
       "    <tr>\n",
       "      <th>0</th>\n",
       "      <td>0000-42E</td>\n",
       "      <td>631.0</td>\n",
       "      <td>16.48</td>\n",
       "      <td>0000-4122</td>\n",
       "      <td>17.33</td>\n",
       "      <td>00</td>\n",
       "      <td>08</td>\n",
       "      <td>48.00</td>\n",
       "      <td>-41</td>\n",
       "      <td>28</td>\n",
       "      <td>04.6</td>\n",
       "      <td>646</td>\n",
       "      <td>c</td>\n",
       "      <td>18380</td>\n",
       "      <td>65</td>\n",
       "      <td>0.251</td>\n",
       "      <td>0.232</td>\n",
       "      <td>None</td>\n",
       "    </tr>\n",
       "    <tr>\n",
       "      <th>1</th>\n",
       "      <td>0000-42E</td>\n",
       "      <td>536.0</td>\n",
       "      <td>16.91</td>\n",
       "      <td>0000-4237</td>\n",
       "      <td>17.60</td>\n",
       "      <td>00</td>\n",
       "      <td>08</td>\n",
       "      <td>49.25</td>\n",
       "      <td>-42</td>\n",
       "      <td>33</td>\n",
       "      <td>31.7</td>\n",
       "      <td>637</td>\n",
       "      <td>c</td>\n",
       "      <td>41180</td>\n",
       "      <td>65</td>\n",
       "      <td>0.282</td>\n",
       "      <td>0.348</td>\n",
       "      <td>None</td>\n",
       "    </tr>\n",
       "    <tr>\n",
       "      <th>2</th>\n",
       "      <td>0000-42E</td>\n",
       "      <td>519.0</td>\n",
       "      <td>16.81</td>\n",
       "      <td>0000-4225</td>\n",
       "      <td>17.68</td>\n",
       "      <td>00</td>\n",
       "      <td>08</td>\n",
       "      <td>49.48</td>\n",
       "      <td>-42</td>\n",
       "      <td>26</td>\n",
       "      <td>10.0</td>\n",
       "      <td>638</td>\n",
       "      <td>c</td>\n",
       "      <td>25610</td>\n",
       "      <td>39</td>\n",
       "      <td>0.265</td>\n",
       "      <td>0.298</td>\n",
       "      <td>None</td>\n",
       "    </tr>\n",
       "    <tr>\n",
       "      <th>3</th>\n",
       "      <td>0000-42E</td>\n",
       "      <td>552.0</td>\n",
       "      <td>17.03</td>\n",
       "      <td>0000-4237</td>\n",
       "      <td>17.72</td>\n",
       "      <td>00</td>\n",
       "      <td>09</td>\n",
       "      <td>01.26</td>\n",
       "      <td>-42</td>\n",
       "      <td>33</td>\n",
       "      <td>17.3</td>\n",
       "      <td>636</td>\n",
       "      <td>c</td>\n",
       "      <td>25790</td>\n",
       "      <td>52</td>\n",
       "      <td>0.259</td>\n",
       "      <td>0.348</td>\n",
       "      <td>None</td>\n",
       "    </tr>\n",
       "    <tr>\n",
       "      <th>4</th>\n",
       "      <td>0000-42E</td>\n",
       "      <td>533.0</td>\n",
       "      <td>16.89</td>\n",
       "      <td>0000-4225</td>\n",
       "      <td>17.77</td>\n",
       "      <td>00</td>\n",
       "      <td>09</td>\n",
       "      <td>01.80</td>\n",
       "      <td>-42</td>\n",
       "      <td>20</td>\n",
       "      <td>10.0</td>\n",
       "      <td>639</td>\n",
       "      <td>c</td>\n",
       "      <td>63220</td>\n",
       "      <td>91</td>\n",
       "      <td>0.270</td>\n",
       "      <td>0.333</td>\n",
       "      <td>None</td>\n",
       "    </tr>\n",
       "    <tr>\n",
       "      <th>...</th>\n",
       "      <td>...</td>\n",
       "      <td>...</td>\n",
       "      <td>...</td>\n",
       "      <td>...</td>\n",
       "      <td>...</td>\n",
       "      <td>...</td>\n",
       "      <td>...</td>\n",
       "      <td>...</td>\n",
       "      <td>...</td>\n",
       "      <td>...</td>\n",
       "      <td>...</td>\n",
       "      <td>...</td>\n",
       "      <td>...</td>\n",
       "      <td>...</td>\n",
       "      <td>...</td>\n",
       "      <td>...</td>\n",
       "      <td>...</td>\n",
       "      <td>...</td>\n",
       "    </tr>\n",
       "    <tr>\n",
       "      <th>25339</th>\n",
       "      <td>2355-45W</td>\n",
       "      <td>329.0</td>\n",
       "      <td>17.34</td>\n",
       "      <td>2355-4435</td>\n",
       "      <td>17.98</td>\n",
       "      <td>23</td>\n",
       "      <td>56</td>\n",
       "      <td>58.95</td>\n",
       "      <td>-44</td>\n",
       "      <td>39</td>\n",
       "      <td>52.1</td>\n",
       "      <td>25C</td>\n",
       "      <td>c</td>\n",
       "      <td>52314</td>\n",
       "      <td>49</td>\n",
       "      <td>0.731</td>\n",
       "      <td>0.617</td>\n",
       "      <td>None</td>\n",
       "    </tr>\n",
       "    <tr>\n",
       "      <th>25340</th>\n",
       "      <td>2355-45W</td>\n",
       "      <td>332.0</td>\n",
       "      <td>17.29</td>\n",
       "      <td>2355-4422</td>\n",
       "      <td>18.20</td>\n",
       "      <td>23</td>\n",
       "      <td>57</td>\n",
       "      <td>02.35</td>\n",
       "      <td>-44</td>\n",
       "      <td>19</td>\n",
       "      <td>26.9</td>\n",
       "      <td>24D</td>\n",
       "      <td>c</td>\n",
       "      <td>52364</td>\n",
       "      <td>75</td>\n",
       "      <td>0.733</td>\n",
       "      <td>0.708</td>\n",
       "      <td>None</td>\n",
       "    </tr>\n",
       "    <tr>\n",
       "      <th>25341</th>\n",
       "      <td>2355-45W</td>\n",
       "      <td>339.0</td>\n",
       "      <td>17.45</td>\n",
       "      <td>2355-4512</td>\n",
       "      <td>18.35</td>\n",
       "      <td>23</td>\n",
       "      <td>57</td>\n",
       "      <td>24.12</td>\n",
       "      <td>-45</td>\n",
       "      <td>12</td>\n",
       "      <td>01.2</td>\n",
       "      <td>27D</td>\n",
       "      <td>b</td>\n",
       "      <td>20089</td>\n",
       "      <td>46</td>\n",
       "      <td>0.651</td>\n",
       "      <td>0.754</td>\n",
       "      <td>None</td>\n",
       "    </tr>\n",
       "    <tr>\n",
       "      <th>25342</th>\n",
       "      <td>2355-45W</td>\n",
       "      <td>346.0</td>\n",
       "      <td>16.56</td>\n",
       "      <td>2355-4435</td>\n",
       "      <td>18.22</td>\n",
       "      <td>23</td>\n",
       "      <td>57</td>\n",
       "      <td>38.90</td>\n",
       "      <td>-44</td>\n",
       "      <td>32</td>\n",
       "      <td>19.7</td>\n",
       "      <td>25B</td>\n",
       "      <td>b</td>\n",
       "      <td>12501</td>\n",
       "      <td>43</td>\n",
       "      <td>0.685</td>\n",
       "      <td>0.555</td>\n",
       "      <td>None</td>\n",
       "    </tr>\n",
       "    <tr>\n",
       "      <th>25343</th>\n",
       "      <td>2355-45W</td>\n",
       "      <td>347.0</td>\n",
       "      <td>16.45</td>\n",
       "      <td>2355-4500</td>\n",
       "      <td>17.85</td>\n",
       "      <td>23</td>\n",
       "      <td>57</td>\n",
       "      <td>39.69</td>\n",
       "      <td>-45</td>\n",
       "      <td>04</td>\n",
       "      <td>20.1</td>\n",
       "      <td>26C</td>\n",
       "      <td>b</td>\n",
       "      <td>26755</td>\n",
       "      <td>68</td>\n",
       "      <td>0.736</td>\n",
       "      <td>0.895</td>\n",
       "      <td>None</td>\n",
       "    </tr>\n",
       "  </tbody>\n",
       "</table>\n",
       "<p>25344 rows × 18 columns</p>\n",
       "</div>"
      ],
      "text/plain": [
       "0         field      p    mag       scan     mc RAh RAm    RAs  DEd DEm   DEs  \\\n",
       "0      0000-42E  631.0  16.48  0000-4122  17.33  00  08  48.00  -41  28  04.6   \n",
       "1      0000-42E  536.0  16.91  0000-4237  17.60  00  08  49.25  -42  33  31.7   \n",
       "2      0000-42E  519.0  16.81  0000-4225  17.68  00  08  49.48  -42  26  10.0   \n",
       "3      0000-42E  552.0  17.03  0000-4237  17.72  00  09  01.26  -42  33  17.3   \n",
       "4      0000-42E  533.0  16.89  0000-4225  17.77  00  09  01.80  -42  20  10.0   \n",
       "...         ...    ...    ...        ...    ...  ..  ..    ...  ...  ..   ...   \n",
       "25339  2355-45W  329.0  17.34  2355-4435  17.98  23  56  58.95  -44  39  52.1   \n",
       "25340  2355-45W  332.0  17.29  2355-4422  18.20  23  57  02.35  -44  19  26.9   \n",
       "25341  2355-45W  339.0  17.45  2355-4512  18.35  23  57  24.12  -45  12  01.2   \n",
       "25342  2355-45W  346.0  16.56  2355-4435  18.22  23  57  38.90  -44  32  19.7   \n",
       "25343  2355-45W  347.0  16.45  2355-4500  17.85  23  57  39.69  -45  04  20.1   \n",
       "\n",
       "0        s type     cz e_cz     sf    gsf  cz55  \n",
       "0      646    c  18380   65  0.251  0.232  None  \n",
       "1      637    c  41180   65  0.282  0.348  None  \n",
       "2      638    c  25610   39  0.265  0.298  None  \n",
       "3      636    c  25790   52  0.259  0.348  None  \n",
       "4      639    c  63220   91  0.270  0.333  None  \n",
       "...    ...  ...    ...  ...    ...    ...   ...  \n",
       "25339  25C    c  52314   49  0.731  0.617  None  \n",
       "25340  24D    c  52364   75  0.733  0.708  None  \n",
       "25341  27D    b  20089   46  0.651  0.754  None  \n",
       "25342  25B    b  12501   43  0.685  0.555  None  \n",
       "25343  26C    b  26755   68  0.736  0.895  None  \n",
       "\n",
       "[25344 rows x 18 columns]"
      ]
     },
     "execution_count": 5,
     "metadata": {},
     "output_type": "execute_result"
    }
   ],
   "source": [
    "df"
   ]
  },
  {
   "cell_type": "markdown",
   "id": "b37fa427",
   "metadata": {},
   "source": [
    "### Step 3 - Making a histogram with the distribution of galaxies as a function of radial velocity (km/s)"
   ]
  },
  {
   "cell_type": "markdown",
   "id": "bde19bd8",
   "metadata": {},
   "source": [
    "As can be seen in the ReadMe file of the catalog (http://cdsarc.u-strasbg.fr/ftp/cats/VII/203/ReadMe), the radial velocities are already expressed in km/s. So, let us make the histogram."
   ]
  },
  {
   "cell_type": "code",
   "execution_count": 6,
   "id": "53bf6427",
   "metadata": {
    "scrolled": true
   },
   "outputs": [
    {
     "data": {
      "image/png": "[encoded data removed]",
      "text/plain": [
       "<Figure size 432x288 with 1 Axes>"
      ]
     },
     "metadata": {
      "needs_background": "light"
     },
     "output_type": "display_data"
    }
   ],
   "source": [
    "#First of all, it is necessary to turn the cz values into float numbers.\n",
    "df['cz'] = df['cz'].astype(float)\n",
    "x_nocut = df['cz']\n",
    "\n",
    "#Then, the histogram is made.\n",
    "fig,ax = plt.subplots()\n",
    "ax.hist(x_nocut, bins=40)\n",
    "#ax.set_xscale('log')\n",
    "ax.set_xlabel(\"Radial velocity (km/s)\")\n",
    "ax.set_ylabel(\"Frequency\")\n",
    "ax.set_title(\"Histogram of galaxies distribution\")\n",
    "\n",
    "#logfmt = matplotlib.ticker.LogFormatterExponent(base=10.0, labelOnlyBase=True)\n",
    "#ax.xaxis.set_major_formatter(logfmt)\n",
    "\n",
    "plt.show()"
   ]
  },
  {
   "cell_type": "markdown",
   "id": "79c5a0e9",
   "metadata": {},
   "source": [
    "### Step 4 - Cutting the sample in a maximum velocity"
   ]
  },
  {
   "cell_type": "markdown",
   "id": "d63bd5e4",
   "metadata": {},
   "source": [
    "Now, I will cut the sample in a maximum velocity that includes most of the sample, but that also avoids\n",
    "the range of velocities where the histogram from the previous item falls off very fast. I will do this because the very fast fall is due to selection effects (we only detect the brighter objects for higher distances). In reality, we would expect the number of galaxies to grow with distance (we are seeing greater volumes of the sky)."
   ]
  },
  {
   "cell_type": "markdown",
   "id": "391c5a8f",
   "metadata": {},
   "source": [
    "I will try to estimate a good cut value just by visual inspection."
   ]
  },
  {
   "cell_type": "code",
   "execution_count": 7,
   "id": "4b814f4d",
   "metadata": {},
   "outputs": [
    {
     "name": "stdout",
     "output_type": "stream",
     "text": [
      "Percentage of data kept after cutting: 0.7202888257575758\n"
     ]
    }
   ],
   "source": [
    "#Cut value for the sample.\n",
    "cut_value = 38000\n",
    "\n",
    "#Selecting the data according to the cut_value.\n",
    "df = df[df['cz']<cut_value]\n",
    "x_cut = df['cz']\n",
    "\n",
    "#Showing the percentage of data kept after cutting.\n",
    "print(\"Percentage of data kept after cutting: \"+ str(len(x_cut)/len(x_nocut)))"
   ]
  },
  {
   "cell_type": "code",
   "execution_count": 8,
   "id": "0fb814a4",
   "metadata": {
    "scrolled": true
   },
   "outputs": [
    {
     "data": {
      "image/png": "[encoded data removed]",
      "text/plain": [
       "<Figure size 432x288 with 1 Axes>"
      ]
     },
     "metadata": {
      "needs_background": "light"
     },
     "output_type": "display_data"
    }
   ],
   "source": [
    "#Making the histogram.\n",
    "fig,ax = plt.subplots()\n",
    "ax.hist(x_cut, bins=40)\n",
    "#ax.set_xscale('log')\n",
    "ax.set_xlabel(\"Radial velocity (km/s)\")\n",
    "ax.set_ylabel(\"Frequency\")\n",
    "ax.set_title(\"Histogram after the cut. Value of the cut: %.f km/s\" %cut_value)\n",
    "\n",
    "#logfmt = matplotlib.ticker.LogFormatterExponent(base=10.0, labelOnlyBase=True)\n",
    "#ax.xaxis.set_major_formatter(logfmt)\n",
    "\n",
    "plt.show()"
   ]
  },
  {
   "cell_type": "markdown",
   "id": "1d82b9eb",
   "metadata": {},
   "source": [
    "### Step 5 - Converting the radial velocities into redshift values and then determining the luminosity distance of each galaxy"
   ]
  },
  {
   "cell_type": "markdown",
   "id": "82e0b2d9",
   "metadata": {},
   "source": [
    "First, as we have $cz$, to obtain the redshift values we must divide this by $c$."
   ]
  },
  {
   "cell_type": "code",
   "execution_count": 9,
   "id": "fbc6de32",
   "metadata": {},
   "outputs": [],
   "source": [
    "#Defining the light velocity.\n",
    "c_m_s = scipy.constants.c\n",
    "c_km_s = c_m_s/1000"
   ]
  },
  {
   "cell_type": "code",
   "execution_count": 10,
   "id": "5523be68",
   "metadata": {},
   "outputs": [],
   "source": [
    "#Calculating and saving the redshift values in a column.\n",
    "df['z'] = df['cz']/c_km_s"
   ]
  },
  {
   "cell_type": "markdown",
   "id": "311b0f21",
   "metadata": {},
   "source": [
    "Now, for determining the luminosity distance, we must use the relation $d_L \\approx \\frac{c}{H_0} z \\left ( 1 + \\frac{1-q_0}{2} z \\right )$, which is valid for $z\\ll1$ and for nearly flat universe (see the Barbara Ryden book, Introduction to Cosmology; in second edition, this is the expression (6.31))."
   ]
  },
  {
   "cell_type": "markdown",
   "id": "a3c988bd",
   "metadata": {},
   "source": [
    "In this expression, $H_0 \\equiv \\frac{\\dot{a}}{a} |_{t=t_0}$ is the Hubble constant and $q_0 \\equiv - \\left ( \\frac{\\ddot{a}a}{\\dot{a}^2} \\right )_{t=t_0}$ is the deceleration parameter. $q_0$ can be also written as $q_0 = \\frac{1}{2} \\sum_{i=1}^{N} \\Omega_{i,0}(1+3w_i)$.  "
   ]
  },
  {
   "cell_type": "markdown",
   "id": "3daf3786",
   "metadata": {},
   "source": [
    "So, let us define a function to compute $d_L$."
   ]
  },
  {
   "cell_type": "code",
   "execution_count": 11,
   "id": "7e295f59",
   "metadata": {},
   "outputs": [],
   "source": [
    "#Defining the function to calculate the luminosity distances.\n",
    "def d_L(z, H_0, q_0):\n",
    "    d_L = (c_km_s/H_0)*z*(1+(1-q_0)*z/2) \n",
    "    return d_L"
   ]
  },
  {
   "cell_type": "markdown",
   "id": "23515edd",
   "metadata": {},
   "source": [
    "Now, let us apply the function to the previous calculated redshift values and save the $d_L$ calculated values in a column in the dataframe."
   ]
  },
  {
   "cell_type": "code",
   "execution_count": 12,
   "id": "e6d19172",
   "metadata": {},
   "outputs": [],
   "source": [
    "#Defining the Hubble constant and the deceleration parameter standard values.\n",
    "H_0_LCDM = 73 #km_s_mpc\n",
    "q_0_LCDM = -0.6 #Estimated value using the relation between q_0 and \\Omega_{i,0}.\n",
    "\n",
    "#Calculating and saving the values of d_L in the dataframe.\n",
    "df['d_L'] = d_L(df['z'], H_0_LCDM, q_0_LCDM)"
   ]
  },
  {
   "cell_type": "code",
   "execution_count": 13,
   "id": "29745094",
   "metadata": {},
   "outputs": [
    {
     "data": {
      "text/plain": [
       "0        264.129983\n",
       "2        374.797302\n",
       "3        377.601262\n",
       "5        365.623151\n",
       "6        399.176985\n",
       "            ...    \n",
       "25337    446.433828\n",
       "25338    142.633797\n",
       "25341    289.944194\n",
       "25342    176.959203\n",
       "25343    392.673994\n",
       "Name: d_L, Length: 18255, dtype: float64"
      ]
     },
     "execution_count": 13,
     "metadata": {},
     "output_type": "execute_result"
    }
   ],
   "source": [
    "df['d_L']"
   ]
  },
  {
   "cell_type": "markdown",
   "id": "797b5d30",
   "metadata": {},
   "source": [
    "### Step 6 - Determining the distances using simply $\\frac{cz}{H_0}$ and comparing with the values from previous item."
   ]
  },
  {
   "cell_type": "markdown",
   "id": "838b0af3",
   "metadata": {},
   "source": [
    "Here, I will just divide the $cz$ column by $H_0$ and save the results in a new column in the dataframe, named d_H0. "
   ]
  },
  {
   "cell_type": "code",
   "execution_count": 14,
   "id": "f4e0c58a",
   "metadata": {},
   "outputs": [],
   "source": [
    "#Calculating and saving the values of d_H0 in the dataframe.\n",
    "df['d_H0'] = df['cz']/H_0_LCDM"
   ]
  },
  {
   "cell_type": "markdown",
   "id": "1606623b",
   "metadata": {},
   "source": [
    "Now, I will compare d_H0 with d_L."
   ]
  },
  {
   "cell_type": "code",
   "execution_count": 15,
   "id": "d53789be",
   "metadata": {},
   "outputs": [
    {
     "data": {
      "image/png": "[encoded data removed]",
      "text/plain": [
       "<Figure size 432x288 with 1 Axes>"
      ]
     },
     "metadata": {
      "needs_background": "light"
     },
     "output_type": "display_data"
    }
   ],
   "source": [
    "#Comparing the two distances.\n",
    "diff_distances = df['d_L']/df['d_H0'] - 1\n",
    "\n",
    "#Making a graph of the comparisson.\n",
    "fig,ax = plt.subplots()\n",
    "ax.scatter(df['z'], diff_distances)\n",
    "#ax.set_xscale('log')\n",
    "ax.set_xlabel(\"Redshift (z)\")\n",
    "ax.set_ylabel(\"(d_L/d_H0) - 1\")\n",
    "ax.set_title(\"Comparing the distances d_L and d_H0\")\n",
    "\n",
    "#logfmt = matplotlib.ticker.LogFormatterExponent(base=10.0, labelOnlyBase=True)\n",
    "#ax.xaxis.set_major_formatter(logfmt)\n",
    "\n",
    "plt.show()"
   ]
  },
  {
   "cell_type": "markdown",
   "id": "6d41dc18",
   "metadata": {},
   "source": [
    "So, as it is possible to see, the difference becomes larger for larger redshifts. This is expected, because for very small z, $d_L \\approx \\frac{c}{H_0} z \\left ( 1 + \\frac{1-q_0}{2} z \\right )$ becomes just $\\frac{cz}{H_0}$. When z grows, the second part in the expression for $d_L$ starts to take effect. "
   ]
  },
  {
   "cell_type": "markdown",
   "id": "837726c0",
   "metadata": {},
   "source": [
    "### Step 7 - Quantifying the effect on the luminosity distances of item 5 of changing the cosmological parameters by 20% for more or for less. "
   ]
  },
  {
   "cell_type": "markdown",
   "id": "43e9b3bc",
   "metadata": {},
   "source": [
    "Let us define the modified parameters."
   ]
  },
  {
   "cell_type": "code",
   "execution_count": 16,
   "id": "39e20b33",
   "metadata": {},
   "outputs": [],
   "source": [
    "H_0_up20 = H_0_LCDM*1.2\n",
    "H_0_down20 = H_0_LCDM*0.8\n",
    "\n",
    "q_0_up20 = q_0_LCDM*1.2\n",
    "q_0_down20 = q_0_LCDM*0.8"
   ]
  },
  {
   "cell_type": "markdown",
   "id": "e0985bef",
   "metadata": {},
   "source": [
    "Now, let us compare d_L for four possibilities: <br>\n",
    "    1) **H_0_up20 and q_0_LCDM,** <br>\n",
    "    2) **H_0_down20 and q_0_LCDM,** <br>\n",
    "    3) **H_0_LCDM and q_0_up20,** <br>\n",
    "    4) **H_0_LCDM and q_0_down20.**"
   ]
  },
  {
   "cell_type": "code",
   "execution_count": 17,
   "id": "407e4f11",
   "metadata": {
    "scrolled": false
   },
   "outputs": [
    {
     "data": {
      "image/png": "[encoded data removed]",
      "text/plain": [
       "<Figure size 936x936 with 4 Axes>"
      ]
     },
     "metadata": {
      "needs_background": "light"
     },
     "output_type": "display_data"
    }
   ],
   "source": [
    "# Initialize the subplot function using number of rows and columns\n",
    "figure, axis = plt.subplots(2, 2, figsize=(13,13))\n",
    "\n",
    "################################################\n",
    "### FIRST POSSIBILITY: H_0_up20 and q_0_LCDM ###\n",
    "\n",
    "#Calculating the new d_L.\n",
    "d_L_H0up = d_L(df['z'], H_0_up20, q_0_LCDM)\n",
    "\n",
    "#Comparing d_L_H0up with d_L.\n",
    "diff_distances = df['d_L']/d_L_H0up - 1\n",
    "\n",
    "#Plot for the first possibility.\n",
    "axis[0, 0].scatter(df['z'], diff_distances)\n",
    "axis[0, 0].set_xlabel(\"Redshift (z)\")\n",
    "axis[0, 0].set_ylabel(\"(d_L/d_L_H0up) - 1\")\n",
    "axis[0, 0].set_title(\"Comparing d_L_H0up and d_L\")\n",
    "axis[0, 0].set_ylim(bottom=-0.5, top=0.5)\n",
    "\n",
    "###################################################\n",
    "### SECOND POSSIBILITY: H_0_down20 and q_0_LCDM ###\n",
    "\n",
    "#Calculating the new d_L.\n",
    "d_L_H0down = d_L(df['z'], H_0_down20, q_0_LCDM)\n",
    "\n",
    "#Comparing d_L_H0down with d_L.\n",
    "diff_distances = df['d_L']/d_L_H0down - 1\n",
    "\n",
    "#Plot for the second possibility.\n",
    "axis[0, 1].scatter(df['z'], diff_distances)\n",
    "axis[0, 1].set_xlabel(\"Redshift (z)\")\n",
    "axis[0, 1].set_ylabel(\"(d_L/d_L_H0down) - 1\")\n",
    "axis[0, 1].set_title(\"Comparing d_L_H0down and d_L\")\n",
    "axis[0, 1].set_ylim(bottom=-0.5, top=0.5)\n",
    "\n",
    "################################################\n",
    "### THIRD POSSIBILITY: H_0_LCDM and q_0_up20 ###\n",
    "\n",
    "#Calculating the new d_L.\n",
    "d_L_q0up = d_L(df['z'], H_0_LCDM, q_0_up20)\n",
    "\n",
    "#Comparing d_L_q0up with d_L.\n",
    "diff_distances = df['d_L']/d_L_q0up - 1\n",
    "\n",
    "#Plot for the third possibility.\n",
    "axis[1, 0].scatter(df['z'], diff_distances)\n",
    "axis[1, 0].set_xlabel(\"Redshift (z)\")\n",
    "axis[1, 0].set_ylabel(\"(d_L/d_L_q0up) - 1\")\n",
    "axis[1, 0].set_title(\"Comparing d_L_q0up and d_L\")\n",
    "\n",
    "##################################################\n",
    "### FOURTH POSSIBILITY: H_0_LCDM and q_0_down20. ###\n",
    "\n",
    "#Calculating the new d_L.\n",
    "d_L_q0down = d_L(df['z'], H_0_LCDM, q_0_down20)\n",
    "\n",
    "#Comparing d_L_q0down with d_L.\n",
    "diff_distances = df['d_L']/d_L_q0down - 1\n",
    "\n",
    "#Plot for the fourth possibility.\n",
    "axis[1, 1].scatter(df['z'], diff_distances)\n",
    "axis[1, 1].set_xlabel(\"Redshift (z)\")\n",
    "axis[1, 1].set_ylabel(\"(d_L/d_L_q0down) - 1\")\n",
    "axis[1, 1].set_title(\"Comparing d_L_q0down and d_L\")\n",
    "\n",
    "\n",
    "\n",
    "plt.show()"
   ]
  },
  {
   "cell_type": "markdown",
   "id": "bfb8a230",
   "metadata": {},
   "source": [
    "So, as we can see, a change of 20% in $H_0$ leads to a systematic error of also 20% in d_L. However, a change of 20% in $q_0$ doesn't lead to a considerable error in d_L, at least in the range of redshifts that we are working with (small redshifts)."
   ]
  },
  {
   "cell_type": "markdown",
   "id": "b2ad2227",
   "metadata": {},
   "source": [
    "### Step 8 - Making a histogram of the luminosity distance distribution given in item 5 (in Mpc)"
   ]
  },
  {
   "cell_type": "markdown",
   "id": "c283487c",
   "metadata": {},
   "source": [
    "Now, let us make a histogram of the luminosity distance distribution."
   ]
  },
  {
   "cell_type": "code",
   "execution_count": 18,
   "id": "db16a939",
   "metadata": {},
   "outputs": [
    {
     "data": {
      "image/png": "[encoded data removed]",
      "text/plain": [
       "<Figure size 432x288 with 1 Axes>"
      ]
     },
     "metadata": {
      "needs_background": "light"
     },
     "output_type": "display_data"
    }
   ],
   "source": [
    "#Making the histogram.\n",
    "fig,ax = plt.subplots()\n",
    "ax.hist(df['d_L'], bins=40)\n",
    "#ax.set_xscale('log')\n",
    "ax.set_xlabel(\"Luminosity distance (Mpc)\")\n",
    "ax.set_ylabel(\"Frequency\")\n",
    "ax.set_title(\"Histogram of the luminosity distances\")\n",
    "\n",
    "#logfmt = matplotlib.ticker.LogFormatterExponent(base=10.0, labelOnlyBase=True)\n",
    "#ax.xaxis.set_major_formatter(logfmt)\n",
    "\n",
    "plt.show()"
   ]
  },
  {
   "cell_type": "markdown",
   "id": "0bddeb97",
   "metadata": {},
   "source": [
    "### Step 9 - Determining absolute magnitudes from the luminosity distances and from the apparent magnitudes."
   ]
  },
  {
   "cell_type": "markdown",
   "id": "02a364a3",
   "metadata": {},
   "source": [
    "The relation between absolute magnitude, apparent magnitude and luminosity distance is given by $M = m -5log_{10} \\left(\\frac{d_L}{1 Mpc}\\right) - 25$ (see the Barbara Ryden's book, Introduction to Cosmology; in second edition, this is the expression (6.48))."
   ]
  },
  {
   "cell_type": "markdown",
   "id": "615811ae",
   "metadata": {},
   "source": [
    "Assuming that the apparent magnitudes are corrected for extinction and for redshift, we can just apply the above relation."
   ]
  },
  {
   "cell_type": "code",
   "execution_count": 19,
   "id": "c16fa65e",
   "metadata": {},
   "outputs": [],
   "source": [
    "#Converting the mag values into float.\n",
    "df['mag'] = df['mag'].astype(float)\n",
    "\n",
    "#Calculating and saving the absolute magnitudes in the dataframe.\n",
    "df['M'] = df['mag'] - 5*np.log10(df['d_L']) - 25"
   ]
  },
  {
   "cell_type": "markdown",
   "id": "d86819bc",
   "metadata": {},
   "source": [
    "### Step 10 - Making a histogram with the distribution of absolute magnitudes."
   ]
  },
  {
   "cell_type": "markdown",
   "id": "0f148b30",
   "metadata": {},
   "source": [
    "Now, let us make a histogram of the absolute magnitudes distribution."
   ]
  },
  {
   "cell_type": "code",
   "execution_count": 20,
   "id": "4950b29a",
   "metadata": {
    "scrolled": false
   },
   "outputs": [
    {
     "data": {
      "image/png": "[encoded data removed]",
      "text/plain": [
       "<Figure size 432x288 with 1 Axes>"
      ]
     },
     "metadata": {
      "needs_background": "light"
     },
     "output_type": "display_data"
    }
   ],
   "source": [
    "#Making the histogram.\n",
    "fig,ax = plt.subplots()\n",
    "ax.hist(df['M'], bins=40)\n",
    "#ax.set_xscale('log')\n",
    "ax.set_xlabel(\"Absolute magnitudes (M)\")\n",
    "ax.set_ylabel(\"Frequency\")\n",
    "ax.set_title(\"Histogram of the absolute magnitudes\")\n",
    "\n",
    "#logfmt = matplotlib.ticker.LogFormatterExponent(base=10.0, labelOnlyBase=True)\n",
    "#ax.xaxis.set_major_formatter(logfmt)\n",
    "\n",
    "plt.show()"
   ]
  },
  {
   "cell_type": "markdown",
   "id": "46ef0f5f",
   "metadata": {},
   "source": [
    "This histogram doesn't represent the luminosity function yet. The Malmquist bias (intrinsically bright objects have preferential detection) leads to a overrepresentation of galaxies with greater luminosity. As we can see, in the above histogram, this bias is present, so it doesn't represent the galaxies distribution by luminosity in a unitary \n",
    "volume of space."
   ]
  },
  {
   "cell_type": "markdown",
   "id": "58b09b01",
   "metadata": {},
   "source": [
    "## PART 2 - Steps 11 to 14"
   ]
  },
  {
   "cell_type": "markdown",
   "id": "bc19a5db",
   "metadata": {},
   "source": [
    "### Step 11 -  Determining the range of luminosity distances ([minimum,maximum]) within which each galaxy may be and still make into the LCRS sample."
   ]
  },
  {
   "cell_type": "markdown",
   "id": "5bd5dd3e",
   "metadata": {},
   "source": [
    "As you can see in the article THE DEPENDENCE OF THE GALAXY LUMINOSITY FUNCTION ON ENVIRONMENT, by DANIEL CHRISTLEIN (https://iopscience.iop.org/article/10.1086/317797/pdf), the LCRS have upper and lower apparent magnitude limits of $m_{up}$ = 15 and $m_{lo}$ = 17.7. So, given a certain galaxy of absolute magnitude M, it is possible to calculate the minimum and maximum distances that this galaxy could be and still make into the LCRS sample. "
   ]
  },
  {
   "cell_type": "markdown",
   "id": "847b4ec0",
   "metadata": {},
   "source": [
    "For doing this, we could begin with the relation $M = m -5log_{10} \\left(\\frac{d_L}{1 Mpc}\\right) - 25$. Inverting this relation to isolate $d_L$, we obtain $\\frac{d_L}{1 Mpc} = 10^{0.2(m-M-25)}$."
   ]
  },
  {
   "cell_type": "markdown",
   "id": "8c5d2cc3",
   "metadata": {},
   "source": [
    "Now, we can put $m_{up}$ (or $m_{lo}$) in place of m, to obtain $d_{min}$ and $d_{max}$ for each galaxy. "
   ]
  },
  {
   "cell_type": "markdown",
   "id": "d20b4dee",
   "metadata": {},
   "source": [
    "If we want the relation in terms of $m_{gal}$ (apparent magnitude of the galaxy), we must substitute M in the above relation by $m_{gal} - 5log_{10}\\left(\\frac{d_{Lgal}}{1 Mpc}\\right) - 25$. This leads to $d_{min}=d_{Lgal}10^{0.2(m_{up} - m_{gal})}$ and $d_{max}=d_{Lgal}10^{0.2(m_{lo} - m_{gal})}$, where $d_{min}$ and $d_{max}$ are measured in Mpc."
   ]
  },
  {
   "cell_type": "markdown",
   "id": "97f8799b",
   "metadata": {},
   "source": [
    "So, let us do it."
   ]
  },
  {
   "cell_type": "code",
   "execution_count": 21,
   "id": "1bbaa5e7",
   "metadata": {},
   "outputs": [],
   "source": [
    "#Defining the magnitude limits of the survey.\n",
    "m_up = 15\n",
    "m_lo = 17.7\n",
    "\n",
    "#Calculating d_min and d_max and saving into the dataframe.\n",
    "df['d_min'] = df['d_L']*10**(0.2*(m_up - df['mag']))\n",
    "\n",
    "df['d_max'] = df['d_L']*10**(0.2*(m_lo - df['mag']))"
   ]
  },
  {
   "cell_type": "markdown",
   "id": "20a7e374",
   "metadata": {},
   "source": [
    "### Step 12 - Determining the maximum volume per unit solid angle available for each galaxy"
   ]
  },
  {
   "cell_type": "markdown",
   "id": "893bba2d",
   "metadata": {},
   "source": [
    "Now, we have to associate to each galaxy a certain volume  $V_{max}$, which is the volume available for the galaxy (the galaxy could have been anywhere inside the volume). This will be used in the next step for the $V_{max}$ method, a method for estimating the luminosity function."
   ]
  },
  {
   "cell_type": "markdown",
   "id": "58df1fd2",
   "metadata": {},
   "source": [
    "For doing this, take the volume of a sphere, $V = \\frac{4}{3} \\pi r^3$. Now, remember that we would only see the galaxy if it were at a distance between $d_{min}$ and $d_{max}$ in this survey. So, the volume available for the galaxy is $V = \\frac{4}{3} \\pi (d_{max}^3 - d_{min}^3)$. If we want this quantity per unit solid angle, we must divide by $4\\pi$, so $V_{max} = \\frac{1}{3} (d_{max}^3 - d_{min}^3)$. "
   ]
  },
  {
   "cell_type": "markdown",
   "id": "d2b03d08",
   "metadata": {},
   "source": [
    "Let us do it."
   ]
  },
  {
   "cell_type": "code",
   "execution_count": 22,
   "id": "42056477",
   "metadata": {},
   "outputs": [
    {
     "data": {
      "text/html": [
       "<div>\n",
       "<style scoped>\n",
       "    .dataframe tbody tr th:only-of-type {\n",
       "        vertical-align: middle;\n",
       "    }\n",
       "\n",
       "    .dataframe tbody tr th {\n",
       "        vertical-align: top;\n",
       "    }\n",
       "\n",
       "    .dataframe thead th {\n",
       "        text-align: right;\n",
       "    }\n",
       "</style>\n",
       "<table border=\"1\" class=\"dataframe\">\n",
       "  <thead>\n",
       "    <tr style=\"text-align: right;\">\n",
       "      <th></th>\n",
       "      <th>field</th>\n",
       "      <th>p</th>\n",
       "      <th>mag</th>\n",
       "      <th>scan</th>\n",
       "      <th>mc</th>\n",
       "      <th>RAh</th>\n",
       "      <th>RAm</th>\n",
       "      <th>RAs</th>\n",
       "      <th>DEd</th>\n",
       "      <th>DEm</th>\n",
       "      <th>...</th>\n",
       "      <th>sf</th>\n",
       "      <th>gsf</th>\n",
       "      <th>cz55</th>\n",
       "      <th>z</th>\n",
       "      <th>d_L</th>\n",
       "      <th>d_H0</th>\n",
       "      <th>M</th>\n",
       "      <th>d_min</th>\n",
       "      <th>d_max</th>\n",
       "      <th>1/V_max</th>\n",
       "    </tr>\n",
       "  </thead>\n",
       "  <tbody>\n",
       "    <tr>\n",
       "      <th>0</th>\n",
       "      <td>0000-42E</td>\n",
       "      <td>631.0</td>\n",
       "      <td>16.48</td>\n",
       "      <td>0000-4122</td>\n",
       "      <td>17.33</td>\n",
       "      <td>00</td>\n",
       "      <td>08</td>\n",
       "      <td>48.00</td>\n",
       "      <td>-41</td>\n",
       "      <td>28</td>\n",
       "      <td>...</td>\n",
       "      <td>0.251</td>\n",
       "      <td>0.232</td>\n",
       "      <td>None</td>\n",
       "      <td>0.061309</td>\n",
       "      <td>264.129983</td>\n",
       "      <td>251.780822</td>\n",
       "      <td>-20.629089</td>\n",
       "      <td>133.603459</td>\n",
       "      <td>463.252426</td>\n",
       "      <td>3.091812e-08</td>\n",
       "    </tr>\n",
       "    <tr>\n",
       "      <th>2</th>\n",
       "      <td>0000-42E</td>\n",
       "      <td>519.0</td>\n",
       "      <td>16.81</td>\n",
       "      <td>0000-4225</td>\n",
       "      <td>17.68</td>\n",
       "      <td>00</td>\n",
       "      <td>08</td>\n",
       "      <td>49.48</td>\n",
       "      <td>-42</td>\n",
       "      <td>26</td>\n",
       "      <td>...</td>\n",
       "      <td>0.265</td>\n",
       "      <td>0.298</td>\n",
       "      <td>None</td>\n",
       "      <td>0.085426</td>\n",
       "      <td>374.797302</td>\n",
       "      <td>350.821918</td>\n",
       "      <td>-21.058982</td>\n",
       "      <td>162.853260</td>\n",
       "      <td>564.672264</td>\n",
       "      <td>1.707170e-08</td>\n",
       "    </tr>\n",
       "    <tr>\n",
       "      <th>3</th>\n",
       "      <td>0000-42E</td>\n",
       "      <td>552.0</td>\n",
       "      <td>17.03</td>\n",
       "      <td>0000-4237</td>\n",
       "      <td>17.72</td>\n",
       "      <td>00</td>\n",
       "      <td>09</td>\n",
       "      <td>01.26</td>\n",
       "      <td>-42</td>\n",
       "      <td>33</td>\n",
       "      <td>...</td>\n",
       "      <td>0.259</td>\n",
       "      <td>0.348</td>\n",
       "      <td>None</td>\n",
       "      <td>0.086026</td>\n",
       "      <td>377.601262</td>\n",
       "      <td>353.287671</td>\n",
       "      <td>-20.855167</td>\n",
       "      <td>148.263223</td>\n",
       "      <td>514.083231</td>\n",
       "      <td>2.262382e-08</td>\n",
       "    </tr>\n",
       "    <tr>\n",
       "      <th>5</th>\n",
       "      <td>0000-42E</td>\n",
       "      <td>606.0</td>\n",
       "      <td>16.59</td>\n",
       "      <td>0000-4225</td>\n",
       "      <td>17.68</td>\n",
       "      <td>00</td>\n",
       "      <td>09</td>\n",
       "      <td>18.78</td>\n",
       "      <td>-42</td>\n",
       "      <td>31</td>\n",
       "      <td>...</td>\n",
       "      <td>0.277</td>\n",
       "      <td>0.368</td>\n",
       "      <td>None</td>\n",
       "      <td>0.083458</td>\n",
       "      <td>365.623151</td>\n",
       "      <td>342.739726</td>\n",
       "      <td>-21.225168</td>\n",
       "      <td>175.805998</td>\n",
       "      <td>609.584180</td>\n",
       "      <td>1.356954e-08</td>\n",
       "    </tr>\n",
       "    <tr>\n",
       "      <th>6</th>\n",
       "      <td>0000-42E</td>\n",
       "      <td>554.0</td>\n",
       "      <td>17.12</td>\n",
       "      <td>0000-4147</td>\n",
       "      <td>17.64</td>\n",
       "      <td>00</td>\n",
       "      <td>09</td>\n",
       "      <td>20.56</td>\n",
       "      <td>-41</td>\n",
       "      <td>43</td>\n",
       "      <td>...</td>\n",
       "      <td>0.264</td>\n",
       "      <td>0.558</td>\n",
       "      <td>None</td>\n",
       "      <td>0.090629</td>\n",
       "      <td>399.176985</td>\n",
       "      <td>372.191781</td>\n",
       "      <td>-20.885827</td>\n",
       "      <td>150.371487</td>\n",
       "      <td>521.393356</td>\n",
       "      <td>2.168552e-08</td>\n",
       "    </tr>\n",
       "    <tr>\n",
       "      <th>...</th>\n",
       "      <td>...</td>\n",
       "      <td>...</td>\n",
       "      <td>...</td>\n",
       "      <td>...</td>\n",
       "      <td>...</td>\n",
       "      <td>...</td>\n",
       "      <td>...</td>\n",
       "      <td>...</td>\n",
       "      <td>...</td>\n",
       "      <td>...</td>\n",
       "      <td>...</td>\n",
       "      <td>...</td>\n",
       "      <td>...</td>\n",
       "      <td>...</td>\n",
       "      <td>...</td>\n",
       "      <td>...</td>\n",
       "      <td>...</td>\n",
       "      <td>...</td>\n",
       "      <td>...</td>\n",
       "      <td>...</td>\n",
       "      <td>...</td>\n",
       "    </tr>\n",
       "    <tr>\n",
       "      <th>25337</th>\n",
       "      <td>2355-45W</td>\n",
       "      <td>320.0</td>\n",
       "      <td>17.56</td>\n",
       "      <td>2355-4422</td>\n",
       "      <td>18.40</td>\n",
       "      <td>23</td>\n",
       "      <td>56</td>\n",
       "      <td>43.07</td>\n",
       "      <td>-44</td>\n",
       "      <td>18</td>\n",
       "      <td>...</td>\n",
       "      <td>0.684</td>\n",
       "      <td>0.616</td>\n",
       "      <td>None</td>\n",
       "      <td>0.100610</td>\n",
       "      <td>446.433828</td>\n",
       "      <td>413.178082</td>\n",
       "      <td>-20.688785</td>\n",
       "      <td>137.327368</td>\n",
       "      <td>476.164590</td>\n",
       "      <td>2.847049e-08</td>\n",
       "    </tr>\n",
       "    <tr>\n",
       "      <th>25338</th>\n",
       "      <td>2355-45W</td>\n",
       "      <td>326.0</td>\n",
       "      <td>16.11</td>\n",
       "      <td>2355-4435</td>\n",
       "      <td>16.88</td>\n",
       "      <td>23</td>\n",
       "      <td>56</td>\n",
       "      <td>58.37</td>\n",
       "      <td>-44</td>\n",
       "      <td>38</td>\n",
       "      <td>...</td>\n",
       "      <td>0.651</td>\n",
       "      <td>0.550</td>\n",
       "      <td>None</td>\n",
       "      <td>0.033817</td>\n",
       "      <td>142.633797</td>\n",
       "      <td>138.876712</td>\n",
       "      <td>-19.661112</td>\n",
       "      <td>85.550479</td>\n",
       "      <td>296.635035</td>\n",
       "      <td>1.177603e-07</td>\n",
       "    </tr>\n",
       "    <tr>\n",
       "      <th>25341</th>\n",
       "      <td>2355-45W</td>\n",
       "      <td>339.0</td>\n",
       "      <td>17.45</td>\n",
       "      <td>2355-4512</td>\n",
       "      <td>18.35</td>\n",
       "      <td>23</td>\n",
       "      <td>57</td>\n",
       "      <td>24.12</td>\n",
       "      <td>-45</td>\n",
       "      <td>12</td>\n",
       "      <td>...</td>\n",
       "      <td>0.651</td>\n",
       "      <td>0.754</td>\n",
       "      <td>None</td>\n",
       "      <td>0.067010</td>\n",
       "      <td>289.944194</td>\n",
       "      <td>275.191781</td>\n",
       "      <td>-19.861572</td>\n",
       "      <td>93.824102</td>\n",
       "      <td>325.322736</td>\n",
       "      <td>8.927359e-08</td>\n",
       "    </tr>\n",
       "    <tr>\n",
       "      <th>25342</th>\n",
       "      <td>2355-45W</td>\n",
       "      <td>346.0</td>\n",
       "      <td>16.56</td>\n",
       "      <td>2355-4435</td>\n",
       "      <td>18.22</td>\n",
       "      <td>23</td>\n",
       "      <td>57</td>\n",
       "      <td>38.90</td>\n",
       "      <td>-44</td>\n",
       "      <td>32</td>\n",
       "      <td>...</td>\n",
       "      <td>0.685</td>\n",
       "      <td>0.555</td>\n",
       "      <td>None</td>\n",
       "      <td>0.041699</td>\n",
       "      <td>176.959203</td>\n",
       "      <td>171.246575</td>\n",
       "      <td>-19.679366</td>\n",
       "      <td>86.272653</td>\n",
       "      <td>299.139080</td>\n",
       "      <td>1.148277e-07</td>\n",
       "    </tr>\n",
       "    <tr>\n",
       "      <th>25343</th>\n",
       "      <td>2355-45W</td>\n",
       "      <td>347.0</td>\n",
       "      <td>16.45</td>\n",
       "      <td>2355-4500</td>\n",
       "      <td>17.85</td>\n",
       "      <td>23</td>\n",
       "      <td>57</td>\n",
       "      <td>39.69</td>\n",
       "      <td>-45</td>\n",
       "      <td>04</td>\n",
       "      <td>...</td>\n",
       "      <td>0.736</td>\n",
       "      <td>0.895</td>\n",
       "      <td>None</td>\n",
       "      <td>0.089245</td>\n",
       "      <td>392.673994</td>\n",
       "      <td>366.506849</td>\n",
       "      <td>-21.520161</td>\n",
       "      <td>201.387328</td>\n",
       "      <td>698.284078</td>\n",
       "      <td>9.027548e-09</td>\n",
       "    </tr>\n",
       "  </tbody>\n",
       "</table>\n",
       "<p>18255 rows × 25 columns</p>\n",
       "</div>"
      ],
      "text/plain": [
       "0         field      p    mag       scan     mc RAh RAm    RAs  DEd DEm  ...  \\\n",
       "0      0000-42E  631.0  16.48  0000-4122  17.33  00  08  48.00  -41  28  ...   \n",
       "2      0000-42E  519.0  16.81  0000-4225  17.68  00  08  49.48  -42  26  ...   \n",
       "3      0000-42E  552.0  17.03  0000-4237  17.72  00  09  01.26  -42  33  ...   \n",
       "5      0000-42E  606.0  16.59  0000-4225  17.68  00  09  18.78  -42  31  ...   \n",
       "6      0000-42E  554.0  17.12  0000-4147  17.64  00  09  20.56  -41  43  ...   \n",
       "...         ...    ...    ...        ...    ...  ..  ..    ...  ...  ..  ...   \n",
       "25337  2355-45W  320.0  17.56  2355-4422  18.40  23  56  43.07  -44  18  ...   \n",
       "25338  2355-45W  326.0  16.11  2355-4435  16.88  23  56  58.37  -44  38  ...   \n",
       "25341  2355-45W  339.0  17.45  2355-4512  18.35  23  57  24.12  -45  12  ...   \n",
       "25342  2355-45W  346.0  16.56  2355-4435  18.22  23  57  38.90  -44  32  ...   \n",
       "25343  2355-45W  347.0  16.45  2355-4500  17.85  23  57  39.69  -45  04  ...   \n",
       "\n",
       "0         sf    gsf  cz55         z         d_L        d_H0          M  \\\n",
       "0      0.251  0.232  None  0.061309  264.129983  251.780822 -20.629089   \n",
       "2      0.265  0.298  None  0.085426  374.797302  350.821918 -21.058982   \n",
       "3      0.259  0.348  None  0.086026  377.601262  353.287671 -20.855167   \n",
       "5      0.277  0.368  None  0.083458  365.623151  342.739726 -21.225168   \n",
       "6      0.264  0.558  None  0.090629  399.176985  372.191781 -20.885827   \n",
       "...      ...    ...   ...       ...         ...         ...        ...   \n",
       "25337  0.684  0.616  None  0.100610  446.433828  413.178082 -20.688785   \n",
       "25338  0.651  0.550  None  0.033817  142.633797  138.876712 -19.661112   \n",
       "25341  0.651  0.754  None  0.067010  289.944194  275.191781 -19.861572   \n",
       "25342  0.685  0.555  None  0.041699  176.959203  171.246575 -19.679366   \n",
       "25343  0.736  0.895  None  0.089245  392.673994  366.506849 -21.520161   \n",
       "\n",
       "0           d_min       d_max       1/V_max  \n",
       "0      133.603459  463.252426  3.091812e-08  \n",
       "2      162.853260  564.672264  1.707170e-08  \n",
       "3      148.263223  514.083231  2.262382e-08  \n",
       "5      175.805998  609.584180  1.356954e-08  \n",
       "6      150.371487  521.393356  2.168552e-08  \n",
       "...           ...         ...           ...  \n",
       "25337  137.327368  476.164590  2.847049e-08  \n",
       "25338   85.550479  296.635035  1.177603e-07  \n",
       "25341   93.824102  325.322736  8.927359e-08  \n",
       "25342   86.272653  299.139080  1.148277e-07  \n",
       "25343  201.387328  698.284078  9.027548e-09  \n",
       "\n",
       "[18255 rows x 25 columns]"
      ]
     },
     "execution_count": 22,
     "metadata": {},
     "output_type": "execute_result"
    }
   ],
   "source": [
    "#Calculating 1/V_max and saving into the dataframe.\n",
    "df['1/V_max'] = 1/((1/3)*(df['d_max']**3 - df['d_min']**3)) #1/(Mpc^3/sterad)\n",
    "\n",
    "df"
   ]
  },
  {
   "cell_type": "markdown",
   "id": "35834bed",
   "metadata": {},
   "source": [
    "The weight for each galaxy, $\\frac{1}{V_{max}}$, will be used in the next step."
   ]
  },
  {
   "cell_type": "markdown",
   "id": "ebd7f1e7",
   "metadata": {},
   "source": [
    "### Step 13 - Making a graph with the distribution of galaxies as a function of absolute magnitude by now using the weights ($\\frac{1}{V_{}max}$) assigned to them"
   ]
  },
  {
   "cell_type": "markdown",
   "id": "e9a12087",
   "metadata": {},
   "source": [
    "There is a method, called the $V_{max}$ method, used to estimate the luminosity function of galaxies. The idea of this method is to assign to each galaxy a certain weight, given by $\\frac{1}{V_{max}}$, where $V_{max}$ was presented in the last step. Doing this, we favor the galaxies with small $V_{max}$."
   ]
  },
  {
   "cell_type": "markdown",
   "id": "1a108647",
   "metadata": {},
   "source": [
    "As we can see in the graph below, the galaxies with small $V_{max}$, favored by the weights, are exactly the galaxies with low absolute magnitudes (when I say \"low\", I mean \"more positive\" absolute magnitudes, or, equivalently, fainter galaxies) which are disfavored by the Malmquist bias. So, this is a method that compensates this bias, then it estimates more realistically the luminosity function."
   ]
  },
  {
   "cell_type": "code",
   "execution_count": 23,
   "id": "ab7c7b94",
   "metadata": {
    "scrolled": true
   },
   "outputs": [
    {
     "data": {
      "image/png": "[encoded data removed]",
      "text/plain": [
       "<Figure size 432x288 with 1 Axes>"
      ]
     },
     "metadata": {
      "needs_background": "light"
     },
     "output_type": "display_data"
    }
   ],
   "source": [
    "#Making a graph for showing that galaxies with small V_max are galaxies with low absolute magnitudes.\n",
    "fig,ax = plt.subplots()\n",
    "ax.scatter(df['M'], 1/df['1/V_max'])\n",
    "ax.set_xlabel(\"Absolute magnitudes (M)\")\n",
    "ax.set_ylabel(\"$V_{max}$\")\n",
    "ax.set_title(\"Checking the relation between $V_{max}$ and M.\")\n",
    "\n",
    "plt.show()"
   ]
  },
  {
   "cell_type": "markdown",
   "id": "ac54f9dc",
   "metadata": {},
   "source": [
    "With this in mind, we can write the relation $\\Phi(M) dM = \\sum \\left(\\frac{1}{V_{max}}\\right)$. This gives, for a certain range of absolute magnitudes $[M, M+dM]$, the number of galaxies per $Mpc^3$ per sterad. If we want $\\Phi(M)$ (luminosity function in number of galaxies per $Mpc^3$ per sterad per unit magnitude), we just divide by the bin size $dM$."
   ]
  },
  {
   "cell_type": "markdown",
   "id": "55c682cc",
   "metadata": {},
   "source": [
    "Aiming to apply the above relation and obtain the luminosity function, I will first bin the data."
   ]
  },
  {
   "cell_type": "code",
   "execution_count": 24,
   "id": "da951a5d",
   "metadata": {},
   "outputs": [
    {
     "name": "stdout",
     "output_type": "stream",
     "text": [
      "Bin size = 0.3219999999999992\n"
     ]
    }
   ],
   "source": [
    "#Binning the data.\n",
    "nbins = 30 #Number of bins.\n",
    "\n",
    "df['BINS'] = pd.cut(df[\"M\"], nbins)\n",
    "\n",
    "#Obtaining the bin size.\n",
    "bin_size = df['BINS'][0].right - df['BINS'][0].left\n",
    "\n",
    "#Saving also the middle value of the bin in the dataframe.\n",
    "#This will be useful for making the luminosity function graph.\n",
    "df['BINS_MID'] = [(a.left + a.right)/2 for a in df['BINS']]\n",
    "\n",
    "print(\"Bin size = \"+ str(bin_size))"
   ]
  },
  {
   "cell_type": "markdown",
   "id": "592d9f35",
   "metadata": {},
   "source": [
    "Now, I will group the data of each bin. "
   ]
  },
  {
   "cell_type": "code",
   "execution_count": 25,
   "id": "b90f971d",
   "metadata": {},
   "outputs": [],
   "source": [
    "bin_groups = df.groupby(df['BINS'])\n",
    "#list(bin_groups.groups)"
   ]
  },
  {
   "cell_type": "markdown",
   "id": "2c4c10b6",
   "metadata": {},
   "source": [
    "Then, I will sum the values of $\\frac{1}{V_{max}}$ in each bin and divide by the bin size."
   ]
  },
  {
   "cell_type": "code",
   "execution_count": 26,
   "id": "f164a618",
   "metadata": {},
   "outputs": [],
   "source": [
    "y = bin_groups['1/V_max'].sum()/bin_size\n",
    "#y"
   ]
  },
  {
   "cell_type": "markdown",
   "id": "874f93b7",
   "metadata": {},
   "source": [
    "Now, I will make the plot of the luminosity function."
   ]
  },
  {
   "cell_type": "code",
   "execution_count": 27,
   "id": "82d6de51",
   "metadata": {
    "scrolled": false
   },
   "outputs": [
    {
     "data": {
      "image/png": "[encoded data removed]",
      "text/plain": [
       "<Figure size 504x504 with 1 Axes>"
      ]
     },
     "metadata": {
      "needs_background": "light"
     },
     "output_type": "display_data"
    }
   ],
   "source": [
    "#Making a bar graph with pandas.\n",
    "#x.plot(kind='bar')\n",
    "\n",
    "#Setting the title and label sizes.\n",
    "plt.rc('axes', titlesize=15, labelsize=15) \n",
    "\n",
    "#Plotting with matplotlib.\n",
    "fig,ax = plt.subplots(figsize=(7,7))\n",
    "ax.plot(bin_groups['BINS_MID'].mean(), y)\n",
    "ax.set_yscale('log')\n",
    "ax.set_xlabel(\"Absolute magnitudes (M)\")\n",
    "ax.set_ylabel('$log[ \\Phi(M) (\\\\frac{\\# galaxies}{Mpc^{3} \\\\times sterad \\\\times Mag})] $')\n",
    "ax.set_title(\"Plot of the luminosity function\")\n",
    "\n",
    "#logfmt = matplotlib.ticker.LogFormatterExponent(base=10.0, labelOnlyBase=True)\n",
    "#ax.yaxis.set_major_formatter(logfmt)\n",
    "\n",
    "plt.show()"
   ]
  },
  {
   "cell_type": "markdown",
   "id": "2f03d038",
   "metadata": {},
   "source": [
    "### Step 14 - Comparing the result with figure 7 of the paper Spectral classification and luminosity function of galaxies in the Las Campanas Redshift Survey, Bromley et al. 1998, ApJ, 505, 25."
   ]
  },
  {
   "cell_type": "markdown",
   "id": "c86aae94",
   "metadata": {},
   "source": [
    "The figure of the article is shown below."
   ]
  },
  {
   "cell_type": "markdown",
   "id": "65d4aa1d",
   "metadata": {},
   "source": [
    "![title](artimg.png)"
   ]
  },
  {
   "cell_type": "markdown",
   "id": "32eb54bc",
   "metadata": {},
   "source": [
    "As we can see, the shape of the curve obtained is very simillar to that of the article. The values in the y-axis are different, probably because of the diffence of units and some normalization."
   ]
  },
  {
   "cell_type": "markdown",
   "id": "20e5d65a",
   "metadata": {},
   "source": [
    "We can also see that, in both graphs, there is an increased uncertainty in the determination of the 'faint-end' slope. "
   ]
  },
  {
   "cell_type": "markdown",
   "id": "feec8b90",
   "metadata": {},
   "source": [
    "There are also other methods for determining the luminosity function, with higher precision. Using other method, we could maybe obtain an even better result."
   ]
  }
 ],
 "metadata": {
  "kernelspec": {
   "display_name": "Python 3 (ipykernel)",
   "language": "python",
   "name": "python3"
  },
  "language_info": {
   "codemirror_mode": {
    "name": "ipython",
    "version": 3
   },
   "file_extension": ".py",
   "mimetype": "text/x-python",
   "name": "python",
   "nbconvert_exporter": "python",
   "pygments_lexer": "ipython3",
   "version": "3.8.10"
  }
 },
 "nbformat": 4,
 "nbformat_minor": 5
}
